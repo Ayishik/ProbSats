{
  "nbformat": 4,
  "nbformat_minor": 0,
  "metadata": {
    "colab": {
      "name": "QC_Research_BasicStat.ipynb",
      "provenance": [],
      "collapsed_sections": [],
      "toc_visible": true
    },
    "kernelspec": {
      "name": "python3",
      "display_name": "Python 3"
    }
  },
  "cells": [
    {
      "cell_type": "code",
      "metadata": {
        "id": "_evlGDyynCGe",
        "outputId": "fc344187-f538-4c9c-bc8d-e07680286424",
        "colab": {
          "base_uri": "https://localhost:8080/",
          "height": 102
        }
      },
      "source": [
        "'''\n",
        "Basic Statistics Stuff: Mean, Standard-Deviation, Variance, Expected Value,  Covariance, Correlation, stationarity of TS, Cumulative Probability Dist., skewness, kurtosis\n",
        "\n",
        "\n",
        "Other TS Stuff: ACF, PACF, AIC, BIC, ADF test, Cointegration  \n",
        "Advanced Stats stuff: Central Limit Theorem, Hypothesis Testing, Confidence Intervals, p-value,  Types of Errors,  Chi-squared test/dist, F-test/dist. \n",
        "Advanced TS stuff (please skip this): ARCH, GARCH, Markov Chain, Monte Carlo. \n",
        "'''"
      ],
      "execution_count": null,
      "outputs": [
        {
          "output_type": "execute_result",
          "data": {
            "application/vnd.google.colaboratory.intrinsic+json": {
              "type": "string"
            },
            "text/plain": [
              "'\\nBasic Statistics Stuff: Mean, Standard-Deviation, Variance, Expected Value,  Covariance, Correlation, stationarity of TS, Cumulative Probability Dist., skewness, kurtosis\\nDistributions (and their origins): Binomial, Geometric, Hyper Geometric,  Normal, Poisson, LogNormal. \\nStatistical Models for TS data: Multiple Linear Regression, AR, MA, ARMA, ARIMA, SARIMA, ARMAX, SARIMAX, VAR. \\nOther TS Stuff: ACF, PACF, AIC, BIC, ADF test, Cointegration  \\nAdvanced Stats stuff: Central Limit Theorem, Hypothesis Testing, Confidence Intervals, p-value,  Types of Errors,  Chi-squared test/dist, F-test/dist. \\nAdvanced TS stuff (please skip this): ARCH, GARCH, Markov Chain, Monte Carlo. \\n'"
            ]
          },
          "metadata": {
            "tags": []
          },
          "execution_count": 1
        }
      ]
    },
    {
      "cell_type": "markdown",
      "metadata": {
        "id": "EyabvHbcnOVX"
      },
      "source": [
        "# **Basic Statistics**\n",
        "\n",
        "Basic Statistics Stuff: Mean, Standard-Deviation, Variance, Expected Value,  Covariance, Correlation, stationarity of TS, Cumulative Probability Dist., skewness, kurtosis"
      ]
    },
    {
      "cell_type": "markdown",
      "metadata": {
        "id": "EIQWC6fmogqZ"
      },
      "source": [
        "**Mean**"
      ]
    },
    {
      "cell_type": "code",
      "metadata": {
        "id": "L66sWo9onMg1",
        "outputId": "1dd8d1c6-ba1e-4e1b-9e66-d12154a9d3f9",
        "colab": {
          "base_uri": "https://localhost:8080/",
          "height": 34
        }
      },
      "source": [
        "# numpy.mean(a, axis=None, dtype=None, out=None, keepdims=<no value>) \n",
        "\n",
        "import numpy as np \n",
        "\n",
        "myList = np.random.randint(1,100,10)\n",
        "myList.mean()"
      ],
      "execution_count": null,
      "outputs": [
        {
          "output_type": "execute_result",
          "data": {
            "text/plain": [
              "50.9"
            ]
          },
          "metadata": {
            "tags": []
          },
          "execution_count": 2
        }
      ]
    },
    {
      "cell_type": "markdown",
      "metadata": {
        "id": "d40WtBp-opJx"
      },
      "source": [
        "**Standard Deviation**"
      ]
    },
    {
      "cell_type": "code",
      "metadata": {
        "id": "Ug687mJEn7ti",
        "outputId": "d484c021-5413-494b-8a6f-fe0a50290b84",
        "colab": {
          "base_uri": "https://localhost:8080/",
          "height": 34
        }
      },
      "source": [
        "# numpy.std(a, axis=None, dtype=None, out=None, ddof=0, keepdims=<class numpy._globals._NoValue>)  \n",
        "\n",
        "import numpy as np \n",
        "\n",
        "myList = np.random.randint(1,100,(5,4))\n",
        "\n",
        "std_dev = np.std(myList)\n",
        "std_dev"
      ],
      "execution_count": null,
      "outputs": [
        {
          "output_type": "execute_result",
          "data": {
            "text/plain": [
              "24.55402207378661"
            ]
          },
          "metadata": {
            "tags": []
          },
          "execution_count": 3
        }
      ]
    },
    {
      "cell_type": "markdown",
      "metadata": {
        "id": "1u6LhaiJrV9E"
      },
      "source": [
        "**Variance**"
      ]
    },
    {
      "cell_type": "code",
      "metadata": {
        "id": "mpzRwMospSUa",
        "outputId": "f55ccb5c-9235-4960-8025-ca06a4506f79",
        "colab": {
          "base_uri": "https://localhost:8080/",
          "height": 101
        }
      },
      "source": [
        "import numpy as np \n",
        "\n",
        "myList = np.random.randint(1,100,10)\n",
        "print(myList)\n",
        "# var = ( np.std(myList) ) ** 2\n",
        "\n",
        "def var_Population(arr) :\n",
        "  return ( np.std(myList) ) ** 2\n",
        "\n",
        "def var_Sample(arr) :\n",
        "  return var_Population(arr) * len(arr)/(len(arr) - 1)\n",
        "\n",
        "print(var_Population(myList))\n",
        "print(var_Sample(myList))\n",
        "\n",
        "\n",
        "import numpy as np\n",
        "\n",
        "myList = np.random.randint(1,100,10)\n",
        "print(myList)\n",
        "np.var(myList)          # This gives population variance"
      ],
      "execution_count": null,
      "outputs": [
        {
          "output_type": "stream",
          "text": [
            "[ 1 96 68 81 24 66 46 37 63 63]\n",
            "705.45\n",
            "783.8333333333334\n",
            "[33 97 77 16 37 23 83 95  8 19]\n"
          ],
          "name": "stdout"
        },
        {
          "output_type": "execute_result",
          "data": {
            "text/plain": [
              "1110.56"
            ]
          },
          "metadata": {
            "tags": []
          },
          "execution_count": 4
        }
      ]
    },
    {
      "cell_type": "markdown",
      "metadata": {
        "id": "xfpKzR8kNExE"
      },
      "source": [
        "**Expected Value**"
      ]
    },
    {
      "cell_type": "code",
      "metadata": {
        "id": "Mi95lyh9NAMm",
        "outputId": "6086704c-cfc6-4a26-c42a-8369d2e02212",
        "colab": {
          "base_uri": "https://localhost:8080/",
          "height": 218
        }
      },
      "source": [
        "import numpy as np\n",
        "\n",
        "myList = np.random.randint(0,100,10)\n",
        "print(np.average(myList))\n",
        "\n",
        "myList = np.random.randint(0,100,(10,5))\n",
        "print(myList)\n",
        "print(np.average(myList,axis=0))  #Axis = 1 find the avg of a row while axis = 0 find avg of col"
      ],
      "execution_count": null,
      "outputs": [
        {
          "output_type": "stream",
          "text": [
            "44.5\n",
            "[[99 78 96 51 52]\n",
            " [43 21 99  5 75]\n",
            " [91 30 17 31 60]\n",
            " [30 50 60 43 56]\n",
            " [83  0  8 14 53]\n",
            " [13 89 35 84 83]\n",
            " [20  9 45 36  2]\n",
            " [36 95 33 13 26]\n",
            " [55 19 38 52 99]\n",
            " [36 96 14 69 62]]\n",
            "[50.6 48.7 44.5 39.8 56.8]\n"
          ],
          "name": "stdout"
        }
      ]
    },
    {
      "cell_type": "markdown",
      "metadata": {
        "id": "hJWD-3peNUIw"
      },
      "source": [
        "**Covariance**"
      ]
    },
    {
      "cell_type": "code",
      "metadata": {
        "id": "KpQlvh6MrsTJ",
        "outputId": "79225a32-2907-424d-b7c7-fe11d1518c1c",
        "colab": {
          "base_uri": "https://localhost:8080/",
          "height": 151
        }
      },
      "source": [
        "'''\n",
        "\n",
        "The sign of the covariance can be interpreted as whether the two variables increase together (positive) or decrease together (negative). \n",
        "The magnitude of the covariance is not easily interpreted.\n",
        "A covariance value of zero indicates that both variables are completely independent.\n",
        "\n",
        "'''\n",
        "import numpy as np\n",
        "\n",
        "a = np.random.randint(1,10,10)\n",
        "b = np.random.randint(-100,-10,10)\n",
        "\n",
        "# a = np.arange(0,10)\n",
        "# b = np.arange(104,114)\n",
        "\n",
        "print(a)\n",
        "print(b)\n",
        "\n",
        "print(np.cov(a,b)[0,1])\n",
        "print()\n",
        "#Co variance matrix\n",
        "\n",
        "from numpy import array\n",
        "from numpy import cov\n",
        "x = array([1,2,3,4,5,6,7,8,9])\n",
        "print(x)\n",
        "y = array([9,8,7,6,5,4,3,2,1])\n",
        "print(y)\n",
        "Sigma = cov(x,y)\n",
        "print(Sigma)"
      ],
      "execution_count": null,
      "outputs": [
        {
          "output_type": "stream",
          "text": [
            "[2 7 2 7 4 9 9 9 8 1]\n",
            "[-66 -62 -69 -63 -32 -93 -99 -54 -33 -85]\n",
            "-3.4666666666666663\n",
            "\n",
            "[1 2 3 4 5 6 7 8 9]\n",
            "[9 8 7 6 5 4 3 2 1]\n",
            "[[ 7.5 -7.5]\n",
            " [-7.5  7.5]]\n"
          ],
          "name": "stdout"
        }
      ]
    },
    {
      "cell_type": "markdown",
      "metadata": {
        "id": "TRW2_zMmZNDL"
      },
      "source": [
        "**Corelation**"
      ]
    },
    {
      "cell_type": "code",
      "metadata": {
        "id": "yVb5tMQ0ZMUC",
        "outputId": "6a643219-7dd1-46bd-b1c7-3c6e8e3db260",
        "colab": {
          "base_uri": "https://localhost:8080/",
          "height": 52
        }
      },
      "source": [
        "'''\n",
        "Correlation tells us direction and strenght betweern two data set\n",
        "Correlation is not causatio\n",
        "Correlation is b/w -1 to 1\n",
        "Only applicable to linear plots\n",
        "\n",
        "'''"
      ],
      "execution_count": null,
      "outputs": [
        {
          "output_type": "execute_result",
          "data": {
            "application/vnd.google.colaboratory.intrinsic+json": {
              "type": "string"
            },
            "text/plain": [
              "'\\nCorrelation tells us direction and strenght betweern two data set\\nCorrelation is not causatio\\nCorrelation is b/w -1 to 1\\nOnly applicable to linear plots\\n\\n'"
            ]
          },
          "metadata": {
            "tags": []
          },
          "execution_count": 7
        }
      ]
    },
    {
      "cell_type": "code",
      "metadata": {
        "id": "fhuEoajGRzH5",
        "outputId": "cc4d3233-6829-4e0f-b640-d7d93268ef2e",
        "colab": {
          "base_uri": "https://localhost:8080/",
          "height": 332
        }
      },
      "source": [
        "import numpy as np\n",
        "a = np.random.randint(0,100,10)\n",
        "b = np.random.randint(0,100,10)\n",
        "\n",
        "#pearson correlarion\n",
        "from scipy import stats \n",
        "corr = stats.pearsonr(a,b)\n",
        "print(corr)\n",
        "\n",
        "#pearson correlarion in numpy\n",
        "import numpy as np\n",
        "print(np.corrcoef(a,b))             # Returns a 2X2 matrix the diagonal elemnts show the correlatiom\n",
        "\n",
        "\n",
        "import matplotlib.pyplot as plt\n",
        "plt.scatter(a,b)\n",
        "\n",
        "# np.correlate(a,b)"
      ],
      "execution_count": null,
      "outputs": [
        {
          "output_type": "stream",
          "text": [
            "(-0.6902100923912056, 0.027163146596389156)\n",
            "[[ 1.         -0.69021009]\n",
            " [-0.69021009  1.        ]]\n"
          ],
          "name": "stdout"
        },
        {
          "output_type": "execute_result",
          "data": {
            "text/plain": [
              "<matplotlib.collections.PathCollection at 0x7f65f9761e48>"
            ]
          },
          "metadata": {
            "tags": []
          },
          "execution_count": 8
        },
        {
          "output_type": "display_data",
          "data": {
            "image/png": "[encoded data removed]",
            "text/plain": [
              "<Figure size 432x288 with 1 Axes>"
            ]
          },
          "metadata": {
            "tags": [],
            "needs_background": "light"
          }
        }
      ]
    },
    {
      "cell_type": "markdown",
      "metadata": {
        "id": "plh806RZ-nqG"
      },
      "source": [
        "**Stationarity of TS**"
      ]
    },
    {
      "cell_type": "code",
      "metadata": {
        "id": "TYTNboORcFn0"
      },
      "source": [
        ""
      ],
      "execution_count": null,
      "outputs": []
    },
    {
      "cell_type": "markdown",
      "metadata": {
        "id": "ayOr5E7T-8j_"
      },
      "source": [
        "**Cumulative Probability Distribution**"
      ]
    },
    {
      "cell_type": "code",
      "metadata": {
        "id": "t-mdzPjbnWYP",
        "outputId": "5629ea98-7eca-4fba-ac63-8363265dbef9",
        "colab": {
          "base_uri": "https://localhost:8080/",
          "height": 50
        }
      },
      "source": [
        "import numpy as np\n",
        "\n",
        "a = np.arange(0.1,1.1,0.1)\n",
        "print(a)\n",
        "np.cumsum(a)"
      ],
      "execution_count": null,
      "outputs": [
        {
          "output_type": "stream",
          "text": [
            "[0.1 0.2 0.3 0.4 0.5 0.6 0.7 0.8 0.9 1. ]\n"
          ],
          "name": "stdout"
        },
        {
          "output_type": "execute_result",
          "data": {
            "text/plain": [
              "array([0.1, 0.3, 0.6, 1. , 1.5, 2.1, 2.8, 3.6, 4.5, 5.5])"
            ]
          },
          "metadata": {
            "tags": []
          },
          "execution_count": 24
        }
      ]
    },
    {
      "cell_type": "code",
      "metadata": {
        "id": "3Lix2pOKDEgF",
        "outputId": "e411788b-0b29-4c4d-befe-25d5d82f35ae",
        "colab": {
          "base_uri": "https://localhost:8080/",
          "height": 265
        }
      },
      "source": [
        "import numpy as np\n",
        "import scipy\n",
        "import matplotlib.pyplot as plt\n",
        "import seaborn as sns\n",
        "\n",
        "x = np.random.randn(10000) # generate samples from normal distribution (discrete data)\n",
        "norm_cdf = scipy.stats.norm.cdf(x) # calculate the cdf - also discrete\n",
        "\n",
        "# plot the cdf\n",
        "sns.lineplot(x=x, y=norm_cdf)\n",
        "plt.show()"
      ],
      "execution_count": null,
      "outputs": [
        {
          "output_type": "display_data",
          "data": {
            "image/png": "[encoded data removed]",
            "text/plain": [
              "<Figure size 432x288 with 1 Axes>"
            ]
          },
          "metadata": {
            "tags": [],
            "needs_background": "light"
          }
        }
      ]
    },
    {
      "cell_type": "markdown",
      "metadata": {
        "id": "rg0L-PHVEk4h"
      },
      "source": [
        "**Skewness**"
      ]
    },
    {
      "cell_type": "code",
      "metadata": {
        "id": "JFDPKOxlFStS",
        "outputId": "d46f38b7-e58c-4bcf-f132-1bd982ae8079",
        "colab": {
          "base_uri": "https://localhost:8080/",
          "height": 402
        }
      },
      "source": [
        "import pandas as pd\n",
        "import numpy as np\n",
        "\n",
        "a = np.random.randint(0,100,100)\n",
        "b = np.arange(0,100)\n",
        "c = []\n",
        "\n",
        "df = pd.DataFrame(a,b)\n",
        "\n",
        "for i in range(1,10) :\n",
        "  temp = np.random.randint(0,100,100)\n",
        "  # c[i].append(temp)\n",
        "  df[str(i)] = temp\n",
        "\n",
        "df\n"
      ],
      "execution_count": null,
      "outputs": [
        {
          "output_type": "execute_result",
          "data": {
            "text/html": [
              "<div>\n",
              "<style scoped>\n",
              "    .dataframe tbody tr th:only-of-type {\n",
              "        vertical-align: middle;\n",
              "    }\n",
              "\n",
              "    .dataframe tbody tr th {\n",
              "        vertical-align: top;\n",
              "    }\n",
              "\n",
              "    .dataframe thead th {\n",
              "        text-align: right;\n",
              "    }\n",
              "</style>\n",
              "<table border=\"1\" class=\"dataframe\">\n",
              "  <thead>\n",
              "    <tr style=\"text-align: right;\">\n",
              "      <th></th>\n",
              "      <th>0</th>\n",
              "      <th>1</th>\n",
              "      <th>2</th>\n",
              "      <th>3</th>\n",
              "      <th>4</th>\n",
              "      <th>5</th>\n",
              "      <th>6</th>\n",
              "      <th>7</th>\n",
              "      <th>8</th>\n",
              "      <th>9</th>\n",
              "    </tr>\n",
              "  </thead>\n",
              "  <tbody>\n",
              "    <tr>\n",
              "      <th>0</th>\n",
              "      <td>44</td>\n",
              "      <td>41</td>\n",
              "      <td>39</td>\n",
              "      <td>65</td>\n",
              "      <td>20</td>\n",
              "      <td>88</td>\n",
              "      <td>78</td>\n",
              "      <td>50</td>\n",
              "      <td>39</td>\n",
              "      <td>38</td>\n",
              "    </tr>\n",
              "    <tr>\n",
              "      <th>1</th>\n",
              "      <td>53</td>\n",
              "      <td>77</td>\n",
              "      <td>34</td>\n",
              "      <td>53</td>\n",
              "      <td>82</td>\n",
              "      <td>99</td>\n",
              "      <td>44</td>\n",
              "      <td>60</td>\n",
              "      <td>93</td>\n",
              "      <td>75</td>\n",
              "    </tr>\n",
              "    <tr>\n",
              "      <th>2</th>\n",
              "      <td>46</td>\n",
              "      <td>74</td>\n",
              "      <td>37</td>\n",
              "      <td>71</td>\n",
              "      <td>19</td>\n",
              "      <td>46</td>\n",
              "      <td>58</td>\n",
              "      <td>30</td>\n",
              "      <td>54</td>\n",
              "      <td>21</td>\n",
              "    </tr>\n",
              "    <tr>\n",
              "      <th>3</th>\n",
              "      <td>78</td>\n",
              "      <td>91</td>\n",
              "      <td>29</td>\n",
              "      <td>10</td>\n",
              "      <td>41</td>\n",
              "      <td>2</td>\n",
              "      <td>88</td>\n",
              "      <td>82</td>\n",
              "      <td>56</td>\n",
              "      <td>69</td>\n",
              "    </tr>\n",
              "    <tr>\n",
              "      <th>4</th>\n",
              "      <td>32</td>\n",
              "      <td>7</td>\n",
              "      <td>96</td>\n",
              "      <td>27</td>\n",
              "      <td>95</td>\n",
              "      <td>54</td>\n",
              "      <td>30</td>\n",
              "      <td>2</td>\n",
              "      <td>0</td>\n",
              "      <td>44</td>\n",
              "    </tr>\n",
              "    <tr>\n",
              "      <th>...</th>\n",
              "      <td>...</td>\n",
              "      <td>...</td>\n",
              "      <td>...</td>\n",
              "      <td>...</td>\n",
              "      <td>...</td>\n",
              "      <td>...</td>\n",
              "      <td>...</td>\n",
              "      <td>...</td>\n",
              "      <td>...</td>\n",
              "      <td>...</td>\n",
              "    </tr>\n",
              "    <tr>\n",
              "      <th>95</th>\n",
              "      <td>47</td>\n",
              "      <td>77</td>\n",
              "      <td>66</td>\n",
              "      <td>99</td>\n",
              "      <td>71</td>\n",
              "      <td>8</td>\n",
              "      <td>39</td>\n",
              "      <td>35</td>\n",
              "      <td>63</td>\n",
              "      <td>28</td>\n",
              "    </tr>\n",
              "    <tr>\n",
              "      <th>96</th>\n",
              "      <td>87</td>\n",
              "      <td>11</td>\n",
              "      <td>35</td>\n",
              "      <td>35</td>\n",
              "      <td>75</td>\n",
              "      <td>64</td>\n",
              "      <td>57</td>\n",
              "      <td>80</td>\n",
              "      <td>86</td>\n",
              "      <td>65</td>\n",
              "    </tr>\n",
              "    <tr>\n",
              "      <th>97</th>\n",
              "      <td>35</td>\n",
              "      <td>34</td>\n",
              "      <td>44</td>\n",
              "      <td>15</td>\n",
              "      <td>46</td>\n",
              "      <td>30</td>\n",
              "      <td>58</td>\n",
              "      <td>34</td>\n",
              "      <td>45</td>\n",
              "      <td>73</td>\n",
              "    </tr>\n",
              "    <tr>\n",
              "      <th>98</th>\n",
              "      <td>43</td>\n",
              "      <td>77</td>\n",
              "      <td>60</td>\n",
              "      <td>39</td>\n",
              "      <td>81</td>\n",
              "      <td>85</td>\n",
              "      <td>10</td>\n",
              "      <td>65</td>\n",
              "      <td>88</td>\n",
              "      <td>97</td>\n",
              "    </tr>\n",
              "    <tr>\n",
              "      <th>99</th>\n",
              "      <td>91</td>\n",
              "      <td>14</td>\n",
              "      <td>71</td>\n",
              "      <td>61</td>\n",
              "      <td>53</td>\n",
              "      <td>67</td>\n",
              "      <td>77</td>\n",
              "      <td>86</td>\n",
              "      <td>63</td>\n",
              "      <td>75</td>\n",
              "    </tr>\n",
              "  </tbody>\n",
              "</table>\n",
              "<p>100 rows × 10 columns</p>\n",
              "</div>"
            ],
            "text/plain": [
              "     0   1   2   3   4   5   6   7   8   9\n",
              "0   44  41  39  65  20  88  78  50  39  38\n",
              "1   53  77  34  53  82  99  44  60  93  75\n",
              "2   46  74  37  71  19  46  58  30  54  21\n",
              "3   78  91  29  10  41   2  88  82  56  69\n",
              "4   32   7  96  27  95  54  30   2   0  44\n",
              "..  ..  ..  ..  ..  ..  ..  ..  ..  ..  ..\n",
              "95  47  77  66  99  71   8  39  35  63  28\n",
              "96  87  11  35  35  75  64  57  80  86  65\n",
              "97  35  34  44  15  46  30  58  34  45  73\n",
              "98  43  77  60  39  81  85  10  65  88  97\n",
              "99  91  14  71  61  53  67  77  86  63  75\n",
              "\n",
              "[100 rows x 10 columns]"
            ]
          },
          "metadata": {
            "tags": []
          },
          "execution_count": 54
        }
      ]
    },
    {
      "cell_type": "code",
      "metadata": {
        "id": "Qd3yKuomHmHt",
        "outputId": "92ce143b-b464-40be-9391-317d566a7f0e",
        "colab": {
          "base_uri": "https://localhost:8080/",
          "height": 218
        }
      },
      "source": [
        "df.skew(axis = 1, skipna = True)"
      ],
      "execution_count": null,
      "outputs": [
        {
          "output_type": "execute_result",
          "data": {
            "text/plain": [
              "0     0.713489\n",
              "1     0.018192\n",
              "2     0.072039\n",
              "3    -0.529576\n",
              "4     0.761145\n",
              "        ...   \n",
              "95   -0.008566\n",
              "96   -0.791469\n",
              "97    0.523988\n",
              "98   -0.890062\n",
              "99   -1.602613\n",
              "Length: 100, dtype: float64"
            ]
          },
          "metadata": {
            "tags": []
          },
          "execution_count": 57
        }
      ]
    },
    {
      "cell_type": "code",
      "metadata": {
        "id": "1JjLtT3uFdTS",
        "outputId": "23596bc3-b68c-4bb9-f7ad-8d1198174cf4",
        "colab": {
          "base_uri": "https://localhost:8080/",
          "height": 402
        }
      },
      "source": [
        "df = pd.read_csv('/content/sample_data/california_housing_test.csv')\n",
        "df"
      ],
      "execution_count": null,
      "outputs": [
        {
          "output_type": "execute_result",
          "data": {
            "text/html": [
              "<div>\n",
              "<style scoped>\n",
              "    .dataframe tbody tr th:only-of-type {\n",
              "        vertical-align: middle;\n",
              "    }\n",
              "\n",
              "    .dataframe tbody tr th {\n",
              "        vertical-align: top;\n",
              "    }\n",
              "\n",
              "    .dataframe thead th {\n",
              "        text-align: right;\n",
              "    }\n",
              "</style>\n",
              "<table border=\"1\" class=\"dataframe\">\n",
              "  <thead>\n",
              "    <tr style=\"text-align: right;\">\n",
              "      <th></th>\n",
              "      <th>longitude</th>\n",
              "      <th>latitude</th>\n",
              "      <th>housing_median_age</th>\n",
              "      <th>total_rooms</th>\n",
              "      <th>total_bedrooms</th>\n",
              "      <th>population</th>\n",
              "      <th>households</th>\n",
              "      <th>median_income</th>\n",
              "      <th>median_house_value</th>\n",
              "    </tr>\n",
              "  </thead>\n",
              "  <tbody>\n",
              "    <tr>\n",
              "      <th>0</th>\n",
              "      <td>-122.05</td>\n",
              "      <td>37.37</td>\n",
              "      <td>27.0</td>\n",
              "      <td>3885.0</td>\n",
              "      <td>661.0</td>\n",
              "      <td>1537.0</td>\n",
              "      <td>606.0</td>\n",
              "      <td>6.6085</td>\n",
              "      <td>344700.0</td>\n",
              "    </tr>\n",
              "    <tr>\n",
              "      <th>1</th>\n",
              "      <td>-118.30</td>\n",
              "      <td>34.26</td>\n",
              "      <td>43.0</td>\n",
              "      <td>1510.0</td>\n",
              "      <td>310.0</td>\n",
              "      <td>809.0</td>\n",
              "      <td>277.0</td>\n",
              "      <td>3.5990</td>\n",
              "      <td>176500.0</td>\n",
              "    </tr>\n",
              "    <tr>\n",
              "      <th>2</th>\n",
              "      <td>-117.81</td>\n",
              "      <td>33.78</td>\n",
              "      <td>27.0</td>\n",
              "      <td>3589.0</td>\n",
              "      <td>507.0</td>\n",
              "      <td>1484.0</td>\n",
              "      <td>495.0</td>\n",
              "      <td>5.7934</td>\n",
              "      <td>270500.0</td>\n",
              "    </tr>\n",
              "    <tr>\n",
              "      <th>3</th>\n",
              "      <td>-118.36</td>\n",
              "      <td>33.82</td>\n",
              "      <td>28.0</td>\n",
              "      <td>67.0</td>\n",
              "      <td>15.0</td>\n",
              "      <td>49.0</td>\n",
              "      <td>11.0</td>\n",
              "      <td>6.1359</td>\n",
              "      <td>330000.0</td>\n",
              "    </tr>\n",
              "    <tr>\n",
              "      <th>4</th>\n",
              "      <td>-119.67</td>\n",
              "      <td>36.33</td>\n",
              "      <td>19.0</td>\n",
              "      <td>1241.0</td>\n",
              "      <td>244.0</td>\n",
              "      <td>850.0</td>\n",
              "      <td>237.0</td>\n",
              "      <td>2.9375</td>\n",
              "      <td>81700.0</td>\n",
              "    </tr>\n",
              "    <tr>\n",
              "      <th>...</th>\n",
              "      <td>...</td>\n",
              "      <td>...</td>\n",
              "      <td>...</td>\n",
              "      <td>...</td>\n",
              "      <td>...</td>\n",
              "      <td>...</td>\n",
              "      <td>...</td>\n",
              "      <td>...</td>\n",
              "      <td>...</td>\n",
              "    </tr>\n",
              "    <tr>\n",
              "      <th>2995</th>\n",
              "      <td>-119.86</td>\n",
              "      <td>34.42</td>\n",
              "      <td>23.0</td>\n",
              "      <td>1450.0</td>\n",
              "      <td>642.0</td>\n",
              "      <td>1258.0</td>\n",
              "      <td>607.0</td>\n",
              "      <td>1.1790</td>\n",
              "      <td>225000.0</td>\n",
              "    </tr>\n",
              "    <tr>\n",
              "      <th>2996</th>\n",
              "      <td>-118.14</td>\n",
              "      <td>34.06</td>\n",
              "      <td>27.0</td>\n",
              "      <td>5257.0</td>\n",
              "      <td>1082.0</td>\n",
              "      <td>3496.0</td>\n",
              "      <td>1036.0</td>\n",
              "      <td>3.3906</td>\n",
              "      <td>237200.0</td>\n",
              "    </tr>\n",
              "    <tr>\n",
              "      <th>2997</th>\n",
              "      <td>-119.70</td>\n",
              "      <td>36.30</td>\n",
              "      <td>10.0</td>\n",
              "      <td>956.0</td>\n",
              "      <td>201.0</td>\n",
              "      <td>693.0</td>\n",
              "      <td>220.0</td>\n",
              "      <td>2.2895</td>\n",
              "      <td>62000.0</td>\n",
              "    </tr>\n",
              "    <tr>\n",
              "      <th>2998</th>\n",
              "      <td>-117.12</td>\n",
              "      <td>34.10</td>\n",
              "      <td>40.0</td>\n",
              "      <td>96.0</td>\n",
              "      <td>14.0</td>\n",
              "      <td>46.0</td>\n",
              "      <td>14.0</td>\n",
              "      <td>3.2708</td>\n",
              "      <td>162500.0</td>\n",
              "    </tr>\n",
              "    <tr>\n",
              "      <th>2999</th>\n",
              "      <td>-119.63</td>\n",
              "      <td>34.42</td>\n",
              "      <td>42.0</td>\n",
              "      <td>1765.0</td>\n",
              "      <td>263.0</td>\n",
              "      <td>753.0</td>\n",
              "      <td>260.0</td>\n",
              "      <td>8.5608</td>\n",
              "      <td>500001.0</td>\n",
              "    </tr>\n",
              "  </tbody>\n",
              "</table>\n",
              "<p>3000 rows × 9 columns</p>\n",
              "</div>"
            ],
            "text/plain": [
              "      longitude  latitude  ...  median_income  median_house_value\n",
              "0       -122.05     37.37  ...         6.6085            344700.0\n",
              "1       -118.30     34.26  ...         3.5990            176500.0\n",
              "2       -117.81     33.78  ...         5.7934            270500.0\n",
              "3       -118.36     33.82  ...         6.1359            330000.0\n",
              "4       -119.67     36.33  ...         2.9375             81700.0\n",
              "...         ...       ...  ...            ...                 ...\n",
              "2995    -119.86     34.42  ...         1.1790            225000.0\n",
              "2996    -118.14     34.06  ...         3.3906            237200.0\n",
              "2997    -119.70     36.30  ...         2.2895             62000.0\n",
              "2998    -117.12     34.10  ...         3.2708            162500.0\n",
              "2999    -119.63     34.42  ...         8.5608            500001.0\n",
              "\n",
              "[3000 rows x 9 columns]"
            ]
          },
          "metadata": {
            "tags": []
          },
          "execution_count": 59
        }
      ]
    },
    {
      "cell_type": "code",
      "metadata": {
        "id": "zXZkhP-uGwFk",
        "outputId": "fd5b46e4-0201-4da1-8477-2e135316f228",
        "colab": {
          "base_uri": "https://localhost:8080/",
          "height": 185
        }
      },
      "source": [
        "df.skew(axis = 0, skipna = True)"
      ],
      "execution_count": null,
      "outputs": [
        {
          "output_type": "execute_result",
          "data": {
            "text/plain": [
              "longitude            -0.297858\n",
              "latitude              0.459816\n",
              "housing_median_age    0.018513\n",
              "total_rooms           4.167637\n",
              "total_bedrooms        3.863393\n",
              "population            2.949671\n",
              "households            3.559753\n",
              "median_income         1.698512\n",
              "median_house_value    0.989562\n",
              "dtype: float64"
            ]
          },
          "metadata": {
            "tags": []
          },
          "execution_count": 62
        }
      ]
    },
    {
      "cell_type": "markdown",
      "metadata": {
        "id": "lrPUqH5QK3m4"
      },
      "source": [
        "**Kurtosis**"
      ]
    },
    {
      "cell_type": "code",
      "metadata": {
        "id": "izyV6qFkHgCz",
        "outputId": "8549d8d9-02e4-4210-d103-9fd6891a2cf3",
        "colab": {
          "base_uri": "https://localhost:8080/",
          "height": 366
        }
      },
      "source": [
        "'''\n",
        "Basicaly tells how up or down the peak of a bell curve\n",
        "'''\n",
        "from scipy.stats import kurtosis \n",
        "import numpy as np  \n",
        "import pylab as p  \n",
        "  \n",
        "x1 = np.linspace( -5, 5, 1000 ) \n",
        "y1 = 1./(np.sqrt(2.*np.pi)) * np.exp( -.5*(x1)**2  ) \n",
        "  \n",
        "p.plot(x1, y1, '*') \n",
        "  \n",
        "  \n",
        "print( '\\nKurtosis for normal distribution :', kurtosis(y1)) \n",
        "  \n",
        "print( '\\nKurtosis for normal distribution :',  \n",
        "      kurtosis(y1, fisher = False)) \n",
        "  \n",
        "print( '\\nKurtosis for normal distribution :',  \n",
        "      kurtosis(y1, fisher = True)) "
      ],
      "execution_count": null,
      "outputs": [
        {
          "output_type": "stream",
          "text": [
            "\n",
            "Kurtosis for normal distribution : -0.3073930877422071\n",
            "\n",
            "Kurtosis for normal distribution : 2.692606912257793\n",
            "\n",
            "Kurtosis for normal distribution : -0.3073930877422071\n"
          ],
          "name": "stdout"
        },
        {
          "output_type": "display_data",
          "data": {
            "image/png": "[encoded data removed]",
            "text/plain": [
              "<Figure size 432x288 with 1 Axes>"
            ]
          },
          "metadata": {
            "tags": [],
            "needs_background": "light"
          }
        }
      ]
    },
    {
      "cell_type": "code",
      "metadata": {
        "id": "wLaRBTSRKy9z"
      },
      "source": [
        ""
      ],
      "execution_count": null,
      "outputs": []
    }
  ]
}