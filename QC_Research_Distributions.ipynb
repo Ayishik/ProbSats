{
  "nbformat": 4,
  "nbformat_minor": 0,
  "metadata": {
    "colab": {
      "name": "QC_Research_Distributions.ipynb",
      "provenance": [],
      "collapsed_sections": []
    },
    "kernelspec": {
      "name": "python3",
      "display_name": "Python 3"
    }
  },
  "cells": [
    {
      "cell_type": "code",
      "metadata": {
        "id": "gdz5yqK4LSnC"
      },
      "source": [
        "'''\n",
        "Distributions (and their origins): Binomial, Geometric, Hyper Geometric,  Normal, Poisson, LogNormal. \n",
        "'''"
      ],
      "execution_count": null,
      "outputs": []
    },
    {
      "cell_type": "markdown",
      "metadata": {
        "id": "nnYCHsN2jHGc"
      },
      "source": [
        "# Distributions"
      ]
    },
    {
      "cell_type": "markdown",
      "metadata": {
        "id": "2KS25O9GjLkU"
      },
      "source": [
        "**Binomial Distribution**"
      ]
    },
    {
      "cell_type": "markdown",
      "metadata": {
        "id": "ZkzTVWuunSfR"
      },
      "source": [
        "P(k|p) = nCk * (p)^k * (1-p)^ n-k     \n",
        "where,\n",
        "n = number of tries k = number of success p = probability of success"
      ]
    },
    {
      "cell_type": "code",
      "metadata": {
        "id": "wIpfYC8eLcEa",
        "outputId": "e44ad53d-37b9-47be-88a1-6b0df2110411",
        "colab": {
          "base_uri": "https://localhost:8080/",
          "height": 283
        }
      },
      "source": [
        "import numpy as np\n",
        "import matplotlib.pyplot as plt\n",
        "\n",
        "n = 10    #Number of Trial    For yhis exapmple, I am tossing 10 coins and trying to fid probability of getting 5 or more heads\n",
        "p = 0.5   #Probability of each trial    Prob of tossing a coin\n",
        "size = 10000 #Size means size i guess like number of elems in output\n",
        "\n",
        "dist = np.random.binomial(n,p,size = size)      # 0,1,2,3,4,5,6,7,8,9,10\n",
        "# print(dist)\n",
        "success = sum(dist >= 5)/size #Probability of getting 5 heads or more\n",
        "print(success)\n",
        "\n",
        "bins = 10\n",
        "plt.hist(dist,bins = bins);"
      ],
      "execution_count": null,
      "outputs": [
        {
          "output_type": "stream",
          "text": [
            "0.6202\n"
          ],
          "name": "stdout"
        },
        {
          "output_type": "display_data",
          "data": {
            "image/png": "[encoded data removed]",
            "text/plain": [
              "<Figure size 432x288 with 1 Axes>"
            ]
          },
          "metadata": {
            "tags": [],
            "needs_background": "light"
          }
        }
      ]
    },
    {
      "cell_type": "markdown",
      "metadata": {
        "id": "ixA_PyLCnzIf"
      },
      "source": [
        "**Geometric Distribution**"
      ]
    },
    {
      "cell_type": "code",
      "metadata": {
        "id": "EUKLHW2_kKI5",
        "outputId": "81ab65ce-9528-4a30-8caa-66eaeb82892c",
        "colab": {
          "base_uri": "https://localhost:8080/",
          "height": 34
        }
      },
      "source": [
        "'''\n",
        "Draw ten thousand values from the geometric distribution, with the probability of an individual success equal to 0.35:\n",
        "'''\n",
        "import numpy as np\n",
        "\n",
        "z = np.random.geometric(p=0.35, size=10000)\n",
        "(z == 1).sum() / 10000"
      ],
      "execution_count": null,
      "outputs": [
        {
          "output_type": "execute_result",
          "data": {
            "text/plain": [
              "0.3476"
            ]
          },
          "metadata": {
            "tags": []
          },
          "execution_count": 3
        }
      ]
    },
    {
      "cell_type": "code",
      "metadata": {
        "id": "8ztYCghIsJfb",
        "outputId": "db24ce9b-b93a-4df2-dc36-87978e146411",
        "colab": {
          "base_uri": "https://localhost:8080/",
          "height": 284
        }
      },
      "source": [
        "'''\n",
        "After how many attemps will a person take to win against a rock,papers,scissors champ if his/her winrate is 75% in 3 rd attemp\n",
        "'''\n",
        "import numpy as np\n",
        "import matplotlib.pyplot as plt\n",
        "\n",
        "z = np.random.geometric(p=0.25, size=10000)          # Your win probability is 25% and we are simulation 10000 situations\n",
        "print((z == 3).sum() / 10000)\n",
        "\n",
        "bins = 10\n",
        "plt.hist(z,bins = bins);"
      ],
      "execution_count": null,
      "outputs": [
        {
          "output_type": "stream",
          "text": [
            "0.144\n"
          ],
          "name": "stdout"
        },
        {
          "output_type": "display_data",
          "data": {
            "image/png": "[encoded data removed]",
            "text/plain": [
              "<Figure size 432x288 with 1 Axes>"
            ]
          },
          "metadata": {
            "tags": [],
            "needs_background": "light"
          }
        }
      ]
    },
    {
      "cell_type": "markdown",
      "metadata": {
        "id": "Fu-8LXJ7Hutx"
      },
      "source": [
        "**Hypegeometric Distriibution**"
      ]
    },
    {
      "cell_type": "code",
      "metadata": {
        "id": "srix3fAkBeVs",
        "outputId": "fbe74151-e2cb-4948-bec3-943d61794d18",
        "colab": {
          "base_uri": "https://localhost:8080/",
          "height": 315
        }
      },
      "source": [
        "ngood, nbad, nsamp = 100, 2, 10\n",
        "# number of good, number of bad, and number of samples\n",
        "s = np.random.hypergeometric(ngood, nbad, nsamp, 1000)\n",
        "from matplotlib.pyplot import hist\n",
        "hist(s)\n",
        "#   note that it is very unlikely to grab both bad items"
      ],
      "execution_count": null,
      "outputs": [
        {
          "output_type": "execute_result",
          "data": {
            "text/plain": [
              "(array([  6.,   0.,   0.,   0.,   0., 173.,   0.,   0.,   0., 821.]),\n",
              " array([ 8. ,  8.2,  8.4,  8.6,  8.8,  9. ,  9.2,  9.4,  9.6,  9.8, 10. ]),\n",
              " <a list of 10 Patch objects>)"
            ]
          },
          "metadata": {
            "tags": []
          },
          "execution_count": 87
        },
        {
          "output_type": "display_data",
          "data": {
            "image/png": "[encoded data removed]",
            "text/plain": [
              "<Figure size 432x288 with 1 Axes>"
            ]
          },
          "metadata": {
            "tags": [],
            "needs_background": "light"
          }
        }
      ]
    },
    {
      "cell_type": "markdown",
      "metadata": {
        "id": "U8jEEm6OIKsN"
      },
      "source": [
        "Suppose you have an urn with 15 white and 15 black marbles. If you pull 15 marbles at random, how likely is it that 12 or more of them are one color?"
      ]
    },
    {
      "cell_type": "code",
      "metadata": {
        "id": "jXIBnKjWH3JN",
        "outputId": "27430a15-15b1-4ca0-b9c1-180d70ac1f53",
        "colab": {
          "base_uri": "https://localhost:8080/",
          "height": 34
        }
      },
      "source": [
        "s = np.random.hypergeometric(15, 15, 15, 100000)\n",
        "sum(s>=12)/100000 + sum(s<=3)/100000\n",
        "#   answer = 0.003 ... pretty unlikely!"
      ],
      "execution_count": null,
      "outputs": [
        {
          "output_type": "execute_result",
          "data": {
            "text/plain": [
              "0.00258"
            ]
          },
          "metadata": {
            "tags": []
          },
          "execution_count": 93
        }
      ]
    },
    {
      "cell_type": "markdown",
      "metadata": {
        "id": "juEyCPZjKEP4"
      },
      "source": [
        "We have 80 good parts and 20 defective parts. If we select 2 parts at random. What is the probability that both of them will be defective?"
      ]
    },
    {
      "cell_type": "code",
      "metadata": {
        "id": "Ft8x5NW6I3O1",
        "outputId": "ff09a407-e457-4221-e474-797b1321af64",
        "colab": {
          "base_uri": "https://localhost:8080/",
          "height": 282
        }
      },
      "source": [
        "s = np.random.hypergeometric(80, 20, 2, 100000)\n",
        "print(sum(s==0)/100000)\n",
        "\n",
        "import matplotlib.pyplot as plt\n",
        "\n",
        "plt.hist(s, bins = 3);"
      ],
      "execution_count": null,
      "outputs": [
        {
          "output_type": "stream",
          "text": [
            "0.03894\n"
          ],
          "name": "stdout"
        },
        {
          "output_type": "display_data",
          "data": {
            "image/png": "[encoded data removed]",
            "text/plain": [
              "<Figure size 432x288 with 1 Axes>"
            ]
          },
          "metadata": {
            "tags": [],
            "needs_background": "light"
          }
        }
      ]
    },
    {
      "cell_type": "markdown",
      "metadata": {
        "id": "c8PMHeRYOMaX"
      },
      "source": [
        "**Normal Distribution**"
      ]
    },
    {
      "cell_type": "code",
      "metadata": {
        "id": "POOmnJ7uJ9Mk"
      },
      "source": [
        "mu, sigma = 0, 0.1 # mean and standard deviation\n",
        "s = np.random.normal(mu, sigma, 1000)"
      ],
      "execution_count": null,
      "outputs": []
    },
    {
      "cell_type": "code",
      "metadata": {
        "id": "tQD7FPNGRkoI",
        "outputId": "ea2605a2-eb29-4566-cd5a-c1d2d5fbf3e4",
        "colab": {
          "base_uri": "https://localhost:8080/",
          "height": 34
        }
      },
      "source": [
        "abs(mu - np.mean(s))"
      ],
      "execution_count": null,
      "outputs": [
        {
          "output_type": "execute_result",
          "data": {
            "text/plain": [
              "0.004064361174284762"
            ]
          },
          "metadata": {
            "tags": []
          },
          "execution_count": 5
        }
      ]
    },
    {
      "cell_type": "code",
      "metadata": {
        "id": "xWqWFkz-Rm4F",
        "outputId": "a2de1464-2d79-4b14-a310-0c1ac469fc77",
        "colab": {
          "base_uri": "https://localhost:8080/",
          "height": 34
        }
      },
      "source": [
        "abs(sigma - np.std(s, ddof=1))"
      ],
      "execution_count": null,
      "outputs": [
        {
          "output_type": "execute_result",
          "data": {
            "text/plain": [
              "0.0029984019993374994"
            ]
          },
          "metadata": {
            "tags": []
          },
          "execution_count": 6
        }
      ]
    },
    {
      "cell_type": "code",
      "metadata": {
        "id": "KnDTiC8ERtYV",
        "outputId": "70e41548-68eb-4b36-919f-95b0f9445d78",
        "colab": {
          "base_uri": "https://localhost:8080/",
          "height": 265
        }
      },
      "source": [
        "import matplotlib.pyplot as plt\n",
        "count, bins, ignored = plt.hist(s, 30, density=True)\n",
        "plt.plot(bins, 1/(sigma * np.sqrt(2 * np.pi)) *\n",
        "               np.exp( - (bins - mu)**2 / (2 * sigma**2) ),\n",
        "         linewidth=2, color='r')\n",
        "plt.show()"
      ],
      "execution_count": null,
      "outputs": [
        {
          "output_type": "display_data",
          "data": {
            "image/png": "[encoded data removed]",
            "text/plain": [
              "<Figure size 432x288 with 1 Axes>"
            ]
          },
          "metadata": {
            "tags": [],
            "needs_background": "light"
          }
        }
      ]
    },
    {
      "cell_type": "markdown",
      "metadata": {
        "id": "F29lI5i6R5o2"
      },
      "source": [
        "**Poisson Distribution**"
      ]
    },
    {
      "cell_type": "code",
      "metadata": {
        "id": "PxNP3FFDRwEl",
        "outputId": "a36b078a-c7d4-4f6e-afbd-7840c80ef636",
        "colab": {
          "base_uri": "https://localhost:8080/",
          "height": 265
        }
      },
      "source": [
        "import numpy as np\n",
        "s = np.random.poisson(5, 10000)\n",
        "\n",
        "import matplotlib.pyplot as plt\n",
        "count, bins, ignored = plt.hist(s, 14, density=True)\n",
        "plt.show()"
      ],
      "execution_count": null,
      "outputs": [
        {
          "output_type": "display_data",
          "data": {
            "image/png": "[encoded data removed]",
            "text/plain": [
              "<Figure size 432x288 with 1 Axes>"
            ]
          },
          "metadata": {
            "tags": [],
            "needs_background": "light"
          }
        }
      ]
    },
    {
      "cell_type": "markdown",
      "metadata": {
        "id": "7b4G496JS-9Y"
      },
      "source": [
        "Assuming mean = 3 , find using poission probability if the number of cars is less than equal to 3"
      ]
    },
    {
      "cell_type": "code",
      "metadata": {
        "id": "hqig2thuS9CG",
        "outputId": "c3050f56-f4ee-43dc-b7e6-b2d785466a95",
        "colab": {
          "base_uri": "https://localhost:8080/",
          "height": 34
        }
      },
      "source": [
        "import numpy as np\n",
        "s = np.random.poisson(5, 10000)\n",
        "\n",
        "(s<=3).sum()/10000"
      ],
      "execution_count": null,
      "outputs": [
        {
          "output_type": "execute_result",
          "data": {
            "text/plain": [
              "0.2634"
            ]
          },
          "metadata": {
            "tags": []
          },
          "execution_count": 110
        }
      ]
    },
    {
      "cell_type": "markdown",
      "metadata": {
        "id": "ap8YlahbBqkc"
      },
      "source": [
        "**LogNormal Distribution**"
      ]
    },
    {
      "cell_type": "code",
      "metadata": {
        "id": "NY6q4owqTfWW",
        "outputId": "d67db266-d02f-4c4f-fc9d-a576b1038524",
        "colab": {
          "base_uri": "https://localhost:8080/",
          "height": 265
        }
      },
      "source": [
        "import numpy as np\n",
        "import matplotlib.pyplot as plt\n",
        "\n",
        "mean = 3\n",
        "sigma = 1\n",
        "\n",
        "s = np.random.lognormal(mean,sigma,1000)\n",
        "\n",
        "# print(s)\n",
        "\n",
        "count, bins, ignored = plt.hist(s, 100, density=True, align='mid')\n",
        "x = np.linspace(min(bins), max(bins), 10000)\n",
        "pdf = (np.exp(-(np.log(x) - mu)**2 / (2 * sigma**2))\n",
        "       / (x * sigma * np.sqrt(2 * np.pi)))\n",
        "\n",
        "plt.plot(x, pdf, linewidth=2, color='r')\n",
        "plt.axis('tight')\n",
        "plt.show()"
      ],
      "execution_count": null,
      "outputs": [
        {
          "output_type": "display_data",
          "data": {
            "image/png": "[encoded data removed]",
            "text/plain": [
              "<Figure size 432x288 with 1 Axes>"
            ]
          },
          "metadata": {
            "tags": [],
            "needs_background": "light"
          }
        }
      ]
    },
    {
      "cell_type": "code",
      "metadata": {
        "id": "zBrkNeUJC72v"
      },
      "source": [
        ""
      ],
      "execution_count": null,
      "outputs": []
    }
  ]
}