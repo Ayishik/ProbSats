{
  "nbformat": 4,
  "nbformat_minor": 0,
  "metadata": {
    "colab": {
      "name": "QC_WBData.ipynb",
      "provenance": []
    },
    "kernelspec": {
      "name": "python3",
      "display_name": "Python 3"
    }
  },
  "cells": [
    {
      "cell_type": "code",
      "metadata": {
        "id": "7YKEFC_cTukQ",
        "outputId": "1a11b545-4777-484f-c0d5-cea7a04aabab",
        "colab": {
          "base_uri": "https://localhost:8080/"
        }
      },
      "source": [
        "!pip install -U wbdata"
      ],
      "execution_count": null,
      "outputs": [
        {
          "output_type": "stream",
          "text": [
            "Collecting wbdata\n",
            "  Downloading https://files.pythonhosted.org/packages/76/87/a04308d9c80829c3b9c4eefbda6f4c849f2c8afa89917906c63ca6d611a5/wbdata-0.3.0-py3-none-any.whl\n",
            "Collecting appdirs<2.0,>=1.4\n",
            "  Downloading https://files.pythonhosted.org/packages/3b/00/2344469e2084fb287c2e0b57b72910309874c3245463acd6cf5e3db69324/appdirs-1.4.4-py2.py3-none-any.whl\n",
            "Requirement already satisfied, skipping upgrade: decorator>=4.0 in /usr/local/lib/python3.6/dist-packages (from wbdata) (4.4.2)\n",
            "Requirement already satisfied, skipping upgrade: tabulate>=0.8.5 in /usr/local/lib/python3.6/dist-packages (from wbdata) (0.8.7)\n",
            "Requirement already satisfied, skipping upgrade: requests>=2.0 in /usr/local/lib/python3.6/dist-packages (from wbdata) (2.23.0)\n",
            "Requirement already satisfied, skipping upgrade: chardet<4,>=3.0.2 in /usr/local/lib/python3.6/dist-packages (from requests>=2.0->wbdata) (3.0.4)\n",
            "Requirement already satisfied, skipping upgrade: urllib3!=1.25.0,!=1.25.1,<1.26,>=1.21.1 in /usr/local/lib/python3.6/dist-packages (from requests>=2.0->wbdata) (1.24.3)\n",
            "Requirement already satisfied, skipping upgrade: idna<3,>=2.5 in /usr/local/lib/python3.6/dist-packages (from requests>=2.0->wbdata) (2.10)\n",
            "Requirement already satisfied, skipping upgrade: certifi>=2017.4.17 in /usr/local/lib/python3.6/dist-packages (from requests>=2.0->wbdata) (2020.6.20)\n",
            "Installing collected packages: appdirs, wbdata\n",
            "Successfully installed appdirs-1.4.4 wbdata-0.3.0\n"
          ],
          "name": "stdout"
        }
      ]
    },
    {
      "cell_type": "markdown",
      "metadata": {
        "id": "trDQI_paFt5e"
      },
      "source": [
        "[https://wbdata.readthedocs.io/en/stable/](https://)"
      ]
    },
    {
      "cell_type": "code",
      "metadata": {
        "id": "aeoJfMiNTwDg"
      },
      "source": [
        "import wbdata"
      ],
      "execution_count": null,
      "outputs": []
    },
    {
      "cell_type": "code",
      "metadata": {
        "id": "vJyoJKxyT4YF",
        "outputId": "db39383a-3286-4907-a3a4-e5776c4d223c",
        "colab": {
          "base_uri": "https://localhost:8080/"
        }
      },
      "source": [
        "wbdata.get_source()"
      ],
      "execution_count": null,
      "outputs": [
        {
          "output_type": "execute_result",
          "data": {
            "text/plain": [
              "  id  name\n",
              "----  --------------------------------------------------------------------\n",
              "   1  Doing Business\n",
              "   2  World Development Indicators\n",
              "   3  Worldwide Governance Indicators\n",
              "   5  Subnational Malnutrition Database\n",
              "   6  International Debt Statistics\n",
              "  11  Africa Development Indicators\n",
              "  12  Education Statistics\n",
              "  13  Enterprise Surveys\n",
              "  14  Gender Statistics\n",
              "  15  Global Economic Monitor\n",
              "  16  Health Nutrition and Population Statistics\n",
              "  18  IDA Results Measurement System\n",
              "  19  Millennium Development Goals\n",
              "  20  Quarterly Public Sector Debt\n",
              "  22  Quarterly External Debt Statistics SDDS\n",
              "  23  Quarterly External Debt Statistics GDDS\n",
              "  24  Poverty and Equity\n",
              "  25  Jobs\n",
              "  27  Global Economic Prospects\n",
              "  28  Global Financial Inclusion\n",
              "  29  The Atlas of Social Protection: Indicators of Resilience and Equity\n",
              "  30  Exporter Dynamics Database – Indicators at Country-Year Level\n",
              "  31  Country Policy and Institutional Assessment\n",
              "  32  Global Financial Development\n",
              "  33  G20 Financial Inclusion Indicators\n",
              "  34  Global Partnership for Education\n",
              "  35  Sustainable Energy for All\n",
              "  36  Statistical Capacity Indicators\n",
              "  37  LAC Equity Lab\n",
              "  38  Subnational Poverty\n",
              "  39  Health Nutrition and Population Statistics by Wealth Quintile\n",
              "  40  Population estimates and projections\n",
              "  41  Country Partnership Strategy for India (FY2013 - 17)\n",
              "  43  Adjusted Net Savings\n",
              "  44  Readiness for Investment in Sustainable Energy\n",
              "  45  Indonesia Database for Policy and Economic Research\n",
              "  46  Sustainable Development Goals\n",
              "  50  Subnational Population\n",
              "  54  Joint External Debt Hub\n",
              "  57  WDI Database Archives\n",
              "  58  Universal Health Coverage\n",
              "  59  Wealth Accounts\n",
              "  60  Economic Fitness\n",
              "  61  PPPs Regulatory Quality\n",
              "  62  International Comparison Program (ICP) 2011\n",
              "  63  Human Capital Index\n",
              "  64  Worldwide Bureaucracy Indicators\n",
              "  65  Health Equity and Financial Protection Indicators\n",
              "  66  Logistics Performance Index\n",
              "  67  PEFA 2011\n",
              "  68  PEFA 2016\n",
              "  69  Global Financial Inclusion and Consumer Protection Survey\n",
              "  70  Economic Fitness 2\n",
              "  71  International Comparison Program (ICP) 2005\n",
              "  72  PEFA_Test\n",
              "  73  Global Financial Inclusion and Consumer Protection Survey (Internal)\n",
              "  75  Environment, Social and Governance (ESG) Data\n",
              "  76  Remittance Prices Worldwide (Sending Countries)\n",
              "  77  Remittance Prices Worldwide (Receiving Countries)\n",
              "  78  ICP 2017\n",
              "  79  PEFA_GRPFM\n",
              "  80  Gender Disaggregated Labor Database (GDLD)\n",
              "  81  International Debt Statistics: DSSI"
            ]
          },
          "metadata": {
            "tags": []
          },
          "execution_count": 5
        }
      ]
    },
    {
      "cell_type": "code",
      "metadata": {
        "id": "UiY1B-BXT6ej",
        "outputId": "75e5bafa-83c4-4384-b648-08eb8bda3c73",
        "colab": {
          "base_uri": "https://localhost:8080/"
        }
      },
      "source": [
        "wbdata.search_countries('IND')  "
      ],
      "execution_count": null,
      "outputs": [
        {
          "output_type": "execute_result",
          "data": {
            "text/plain": [
              "id    name\n",
              "----  --------------------------------------\n",
              "HPC   Heavily indebted poor countries (HIPC)\n",
              "IDN   Indonesia\n",
              "IND   India"
            ]
          },
          "metadata": {
            "tags": []
          },
          "execution_count": 6
        }
      ]
    },
    {
      "cell_type": "code",
      "metadata": {
        "id": "H1HRXeA9Bp3k"
      },
      "source": [
        "h = wbdata.get_indicator(source=23) \n",
        "h = list(h)\n",
        "name = [i['name'] for i in h]\n",
        "id = [i['id'] for i in h]\n",
        "# name\n",
        "id\n",
        "data = dict(zip(id,name))\n",
        "data"
      ],
      "execution_count": null,
      "outputs": []
    },
    {
      "cell_type": "code",
      "metadata": {
        "id": "h1MCgzjfUDln"
      },
      "source": [
        "wbdata.get_data(\"DT.DOD.DECT.CD.TD.NV.US\", country=\"IND\")"
      ],
      "execution_count": null,
      "outputs": []
    },
    {
      "cell_type": "code",
      "metadata": {
        "id": "pM77nMBEUQif"
      },
      "source": [
        "import datetime "
      ],
      "execution_count": null,
      "outputs": []
    },
    {
      "cell_type": "code",
      "metadata": {
        "id": "IMM56WprUazA"
      },
      "source": [
        "data_date = datetime.datetime(2010, 1, 1), datetime.datetime(2011, 1, 1) "
      ],
      "execution_count": null,
      "outputs": []
    },
    {
      "cell_type": "code",
      "metadata": {
        "id": "9B87GeNLUe5q",
        "outputId": "f631b502-4ece-4d63-cbe6-73ae71ab5d1b",
        "colab": {
          "base_uri": "https://localhost:8080/"
        }
      },
      "source": [
        "wbdata.get_data(\"IC.BUS.EASE.XQ\", country=[\"USA\", \"GBR\"], data_date=data_date)"
      ],
      "execution_count": null,
      "outputs": [
        {
          "output_type": "execute_result",
          "data": {
            "text/plain": [
              "[{'country': {'id': 'GB', 'value': 'United Kingdom'},\n",
              "  'countryiso3code': 'GBR',\n",
              "  'date': '2011',\n",
              "  'decimal': 0,\n",
              "  'indicator': {'id': 'IC.BUS.EASE.XQ',\n",
              "   'value': 'Ease of doing business index (1=most business-friendly regulations)'},\n",
              "  'obs_status': '',\n",
              "  'unit': '',\n",
              "  'value': None},\n",
              " {'country': {'id': 'GB', 'value': 'United Kingdom'},\n",
              "  'countryiso3code': 'GBR',\n",
              "  'date': '2010',\n",
              "  'decimal': 0,\n",
              "  'indicator': {'id': 'IC.BUS.EASE.XQ',\n",
              "   'value': 'Ease of doing business index (1=most business-friendly regulations)'},\n",
              "  'obs_status': '',\n",
              "  'unit': '',\n",
              "  'value': None},\n",
              " {'country': {'id': 'US', 'value': 'United States'},\n",
              "  'countryiso3code': 'USA',\n",
              "  'date': '2011',\n",
              "  'decimal': 0,\n",
              "  'indicator': {'id': 'IC.BUS.EASE.XQ',\n",
              "   'value': 'Ease of doing business index (1=most business-friendly regulations)'},\n",
              "  'obs_status': '',\n",
              "  'unit': '',\n",
              "  'value': None},\n",
              " {'country': {'id': 'US', 'value': 'United States'},\n",
              "  'countryiso3code': 'USA',\n",
              "  'date': '2010',\n",
              "  'decimal': 0,\n",
              "  'indicator': {'id': 'IC.BUS.EASE.XQ',\n",
              "   'value': 'Ease of doing business index (1=most business-friendly regulations)'},\n",
              "  'obs_status': '',\n",
              "  'unit': '',\n",
              "  'value': None}]"
            ]
          },
          "metadata": {
            "tags": []
          },
          "execution_count": 14
        }
      ]
    },
    {
      "cell_type": "code",
      "metadata": {
        "id": "CF6Drgs6Ul1g",
        "outputId": "afc94c05-a2c0-426a-b46e-fd69cb7115a3",
        "colab": {
          "base_uri": "https://localhost:8080/"
        }
      },
      "source": [
        "wbdata.search_indicators(\"Sheets\")"
      ],
      "execution_count": null,
      "outputs": [
        {
          "output_type": "execute_result",
          "data": {
            "text/plain": [
              "id    name\n",
              "----  ------"
            ]
          },
          "metadata": {
            "tags": []
          },
          "execution_count": 138
        }
      ]
    },
    {
      "cell_type": "code",
      "metadata": {
        "id": "zv-yj2QqUuhx",
        "outputId": "97d7edc2-bcd1-40de-c02e-c46f6dc5b8f6",
        "colab": {
          "base_uri": "https://localhost:8080/",
          "height": 286
        }
      },
      "source": [
        "countries = ['IND']\n",
        "indicators = {\"IC.BUS.EASE.XQ\": \"doing_business\", \"NY.GDP.PCAP.PP.KD\": \"gdppc\"}         \n",
        "df = wbdata.get_dataframe(indicators, country=countries, convert_date=True)   \n",
        "df.describe()  "
      ],
      "execution_count": null,
      "outputs": [
        {
          "output_type": "execute_result",
          "data": {
            "text/html": [
              "<div>\n",
              "<style scoped>\n",
              "    .dataframe tbody tr th:only-of-type {\n",
              "        vertical-align: middle;\n",
              "    }\n",
              "\n",
              "    .dataframe tbody tr th {\n",
              "        vertical-align: top;\n",
              "    }\n",
              "\n",
              "    .dataframe thead th {\n",
              "        text-align: right;\n",
              "    }\n",
              "</style>\n",
              "<table border=\"1\" class=\"dataframe\">\n",
              "  <thead>\n",
              "    <tr style=\"text-align: right;\">\n",
              "      <th></th>\n",
              "      <th>doing_business</th>\n",
              "      <th>gdppc</th>\n",
              "    </tr>\n",
              "  </thead>\n",
              "  <tbody>\n",
              "    <tr>\n",
              "      <th>count</th>\n",
              "      <td>1.0</td>\n",
              "      <td>30.000000</td>\n",
              "    </tr>\n",
              "    <tr>\n",
              "      <th>mean</th>\n",
              "      <td>63.0</td>\n",
              "      <td>3550.383771</td>\n",
              "    </tr>\n",
              "    <tr>\n",
              "      <th>std</th>\n",
              "      <td>NaN</td>\n",
              "      <td>1515.847458</td>\n",
              "    </tr>\n",
              "    <tr>\n",
              "      <th>min</th>\n",
              "      <td>63.0</td>\n",
              "      <td>1792.001451</td>\n",
              "    </tr>\n",
              "    <tr>\n",
              "      <th>25%</th>\n",
              "      <td>63.0</td>\n",
              "      <td>2287.920145</td>\n",
              "    </tr>\n",
              "    <tr>\n",
              "      <th>50%</th>\n",
              "      <td>63.0</td>\n",
              "      <td>3144.317567</td>\n",
              "    </tr>\n",
              "    <tr>\n",
              "      <th>75%</th>\n",
              "      <td>63.0</td>\n",
              "      <td>4529.002250</td>\n",
              "    </tr>\n",
              "    <tr>\n",
              "      <th>max</th>\n",
              "      <td>63.0</td>\n",
              "      <td>6754.286547</td>\n",
              "    </tr>\n",
              "  </tbody>\n",
              "</table>\n",
              "</div>"
            ],
            "text/plain": [
              "       doing_business        gdppc\n",
              "count             1.0    30.000000\n",
              "mean             63.0  3550.383771\n",
              "std               NaN  1515.847458\n",
              "min              63.0  1792.001451\n",
              "25%              63.0  2287.920145\n",
              "50%              63.0  3144.317567\n",
              "75%              63.0  4529.002250\n",
              "max              63.0  6754.286547"
            ]
          },
          "metadata": {
            "tags": []
          },
          "execution_count": 16
        }
      ]
    },
    {
      "cell_type": "code",
      "metadata": {
        "id": "JksieCcAU8kD",
        "outputId": "34796beb-9a6a-499e-da06-133f85a74a43",
        "colab": {
          "base_uri": "https://localhost:8080/",
          "height": 166
        }
      },
      "source": [
        "countries = [\"IND\"]\n",
        "indicators = {\"DT.DOD.DECT.CD.TD.NV.US\": 'Debt'}         \n",
        "df = wbdata.get_dataframe(indicators, country=countries, convert_date=True)   \n",
        "df.describe()  "
      ],
      "execution_count": null,
      "outputs": [
        {
          "output_type": "execute_result",
          "data": {
            "text/html": [
              "<div>\n",
              "<style scoped>\n",
              "    .dataframe tbody tr th:only-of-type {\n",
              "        vertical-align: middle;\n",
              "    }\n",
              "\n",
              "    .dataframe tbody tr th {\n",
              "        vertical-align: top;\n",
              "    }\n",
              "\n",
              "    .dataframe thead th {\n",
              "        text-align: right;\n",
              "    }\n",
              "</style>\n",
              "<table border=\"1\" class=\"dataframe\">\n",
              "  <thead>\n",
              "    <tr style=\"text-align: right;\">\n",
              "      <th></th>\n",
              "      <th>Debt</th>\n",
              "    </tr>\n",
              "  </thead>\n",
              "  <tbody>\n",
              "    <tr>\n",
              "      <th>count</th>\n",
              "      <td>0</td>\n",
              "    </tr>\n",
              "    <tr>\n",
              "      <th>unique</th>\n",
              "      <td>0</td>\n",
              "    </tr>\n",
              "    <tr>\n",
              "      <th>top</th>\n",
              "      <td>NaN</td>\n",
              "    </tr>\n",
              "    <tr>\n",
              "      <th>freq</th>\n",
              "      <td>NaN</td>\n",
              "    </tr>\n",
              "  </tbody>\n",
              "</table>\n",
              "</div>"
            ],
            "text/plain": [
              "       Debt\n",
              "count     0\n",
              "unique    0\n",
              "top     NaN\n",
              "freq    NaN"
            ]
          },
          "metadata": {
            "tags": []
          },
          "execution_count": 18
        }
      ]
    },
    {
      "cell_type": "code",
      "metadata": {
        "id": "l2gGKnqO_y4b",
        "outputId": "c078c096-f850-49ad-f5f5-95e80a8ce70b",
        "colab": {
          "base_uri": "https://localhost:8080/"
        }
      },
      "source": [
        "wbdata.get_source()"
      ],
      "execution_count": null,
      "outputs": [
        {
          "output_type": "execute_result",
          "data": {
            "text/plain": [
              "  id  name\n",
              "----  --------------------------------------------------------------------\n",
              "   1  Doing Business\n",
              "   2  World Development Indicators\n",
              "   3  Worldwide Governance Indicators\n",
              "   5  Subnational Malnutrition Database\n",
              "   6  International Debt Statistics\n",
              "  11  Africa Development Indicators\n",
              "  12  Education Statistics\n",
              "  13  Enterprise Surveys\n",
              "  14  Gender Statistics\n",
              "  15  Global Economic Monitor\n",
              "  16  Health Nutrition and Population Statistics\n",
              "  18  IDA Results Measurement System\n",
              "  19  Millennium Development Goals\n",
              "  20  Quarterly Public Sector Debt\n",
              "  22  Quarterly External Debt Statistics SDDS\n",
              "  23  Quarterly External Debt Statistics GDDS\n",
              "  24  Poverty and Equity\n",
              "  25  Jobs\n",
              "  27  Global Economic Prospects\n",
              "  28  Global Financial Inclusion\n",
              "  29  The Atlas of Social Protection: Indicators of Resilience and Equity\n",
              "  30  Exporter Dynamics Database – Indicators at Country-Year Level\n",
              "  31  Country Policy and Institutional Assessment\n",
              "  32  Global Financial Development\n",
              "  33  G20 Financial Inclusion Indicators\n",
              "  34  Global Partnership for Education\n",
              "  35  Sustainable Energy for All\n",
              "  36  Statistical Capacity Indicators\n",
              "  37  LAC Equity Lab\n",
              "  38  Subnational Poverty\n",
              "  39  Health Nutrition and Population Statistics by Wealth Quintile\n",
              "  40  Population estimates and projections\n",
              "  41  Country Partnership Strategy for India (FY2013 - 17)\n",
              "  43  Adjusted Net Savings\n",
              "  44  Readiness for Investment in Sustainable Energy\n",
              "  45  Indonesia Database for Policy and Economic Research\n",
              "  46  Sustainable Development Goals\n",
              "  50  Subnational Population\n",
              "  54  Joint External Debt Hub\n",
              "  57  WDI Database Archives\n",
              "  58  Universal Health Coverage\n",
              "  59  Wealth Accounts\n",
              "  60  Economic Fitness\n",
              "  61  PPPs Regulatory Quality\n",
              "  62  International Comparison Program (ICP) 2011\n",
              "  63  Human Capital Index\n",
              "  64  Worldwide Bureaucracy Indicators\n",
              "  65  Health Equity and Financial Protection Indicators\n",
              "  66  Logistics Performance Index\n",
              "  67  PEFA 2011\n",
              "  68  PEFA 2016\n",
              "  69  Global Financial Inclusion and Consumer Protection Survey\n",
              "  70  Economic Fitness 2\n",
              "  71  International Comparison Program (ICP) 2005\n",
              "  72  PEFA_Test\n",
              "  73  Global Financial Inclusion and Consumer Protection Survey (Internal)\n",
              "  75  Environment, Social and Governance (ESG) Data\n",
              "  76  Remittance Prices Worldwide (Sending Countries)\n",
              "  77  Remittance Prices Worldwide (Receiving Countries)\n",
              "  78  ICP 2017\n",
              "  79  PEFA_GRPFM\n",
              "  80  Gender Disaggregated Labor Database (GDLD)\n",
              "  81  International Debt Statistics: DSSI"
            ]
          },
          "metadata": {
            "tags": []
          },
          "execution_count": 8
        }
      ]
    },
    {
      "cell_type": "code",
      "metadata": {
        "id": "SQjZP6sxCZIM",
        "outputId": "9bfb2c2e-4e12-41d8-f872-c0269da14452",
        "colab": {
          "base_uri": "https://localhost:8080/"
        }
      },
      "source": [
        "h = wbdata.get_indicator(source=77) \n",
        "h = list(h)\n",
        "countries = [\"IND\"]\n",
        "# del h[175]\n",
        "n = len(h)\n",
        "name = [i['name'] for i in h[:n]]\n",
        "id = [i['id'] for i in h[:n]]\n",
        "data_date = datetime.datetime(2018, 1, 1), datetime.datetime(2011, 1, 1) \n",
        "# name\n",
        "id\n",
        "data = dict(zip(id,name))\n",
        "data\n"
      ],
      "execution_count": null,
      "outputs": [
        {
          "output_type": "execute_result",
          "data": {
            "text/plain": [
              "{'SI.RMT.COST.IB.ZS': 'Average transaction cost of sending remittances to a specific country (%)'}"
            ]
          },
          "metadata": {
            "tags": []
          },
          "execution_count": 141
        }
      ]
    },
    {
      "cell_type": "code",
      "metadata": {
        "id": "oBfKhXfJGJ-s",
        "outputId": "8a8ea3a2-deb5-4b42-ea00-2f567686435d",
        "colab": {
          "base_uri": "https://localhost:8080/",
          "height": 434
        }
      },
      "source": [
        "df = wbdata.get_dataframe(data, country=countries, convert_date=True)   \n",
        "df"
      ],
      "execution_count": null,
      "outputs": [
        {
          "output_type": "execute_result",
          "data": {
            "text/html": [
              "<div>\n",
              "<style scoped>\n",
              "    .dataframe tbody tr th:only-of-type {\n",
              "        vertical-align: middle;\n",
              "    }\n",
              "\n",
              "    .dataframe tbody tr th {\n",
              "        vertical-align: top;\n",
              "    }\n",
              "\n",
              "    .dataframe thead th {\n",
              "        text-align: right;\n",
              "    }\n",
              "</style>\n",
              "<table border=\"1\" class=\"dataframe\">\n",
              "  <thead>\n",
              "    <tr style=\"text-align: right;\">\n",
              "      <th></th>\n",
              "      <th>Average transaction cost of sending remittances to a specific country (%)</th>\n",
              "    </tr>\n",
              "    <tr>\n",
              "      <th>date</th>\n",
              "      <th></th>\n",
              "    </tr>\n",
              "  </thead>\n",
              "  <tbody>\n",
              "    <tr>\n",
              "      <th>2020-01-01</th>\n",
              "      <td>NaN</td>\n",
              "    </tr>\n",
              "    <tr>\n",
              "      <th>2019-01-01</th>\n",
              "      <td>NaN</td>\n",
              "    </tr>\n",
              "    <tr>\n",
              "      <th>2018-01-01</th>\n",
              "      <td>NaN</td>\n",
              "    </tr>\n",
              "    <tr>\n",
              "      <th>2017-01-01</th>\n",
              "      <td>5.975061</td>\n",
              "    </tr>\n",
              "    <tr>\n",
              "      <th>2016-01-01</th>\n",
              "      <td>6.230435</td>\n",
              "    </tr>\n",
              "    <tr>\n",
              "      <th>...</th>\n",
              "      <td>...</td>\n",
              "    </tr>\n",
              "    <tr>\n",
              "      <th>1964-01-01</th>\n",
              "      <td>NaN</td>\n",
              "    </tr>\n",
              "    <tr>\n",
              "      <th>1963-01-01</th>\n",
              "      <td>NaN</td>\n",
              "    </tr>\n",
              "    <tr>\n",
              "      <th>1962-01-01</th>\n",
              "      <td>NaN</td>\n",
              "    </tr>\n",
              "    <tr>\n",
              "      <th>1961-01-01</th>\n",
              "      <td>NaN</td>\n",
              "    </tr>\n",
              "    <tr>\n",
              "      <th>1960-01-01</th>\n",
              "      <td>NaN</td>\n",
              "    </tr>\n",
              "  </tbody>\n",
              "</table>\n",
              "<p>61 rows × 1 columns</p>\n",
              "</div>"
            ],
            "text/plain": [
              "            Average transaction cost of sending remittances to a specific country (%)\n",
              "date                                                                                 \n",
              "2020-01-01                                                NaN                        \n",
              "2019-01-01                                                NaN                        \n",
              "2018-01-01                                                NaN                        \n",
              "2017-01-01                                           5.975061                        \n",
              "2016-01-01                                           6.230435                        \n",
              "...                                                       ...                        \n",
              "1964-01-01                                                NaN                        \n",
              "1963-01-01                                                NaN                        \n",
              "1962-01-01                                                NaN                        \n",
              "1961-01-01                                                NaN                        \n",
              "1960-01-01                                                NaN                        \n",
              "\n",
              "[61 rows x 1 columns]"
            ]
          },
          "metadata": {
            "tags": []
          },
          "execution_count": 142
        }
      ]
    },
    {
      "cell_type": "code",
      "metadata": {
        "id": "z7YO0SWRGMxK",
        "outputId": "ac271b3c-0e2f-4d95-bcc5-66dcf61bffe7",
        "colab": {
          "base_uri": "https://localhost:8080/",
          "height": 286
        }
      },
      "source": [
        "df.describe()"
      ],
      "execution_count": null,
      "outputs": [
        {
          "output_type": "execute_result",
          "data": {
            "text/html": [
              "<div>\n",
              "<style scoped>\n",
              "    .dataframe tbody tr th:only-of-type {\n",
              "        vertical-align: middle;\n",
              "    }\n",
              "\n",
              "    .dataframe tbody tr th {\n",
              "        vertical-align: top;\n",
              "    }\n",
              "\n",
              "    .dataframe thead th {\n",
              "        text-align: right;\n",
              "    }\n",
              "</style>\n",
              "<table border=\"1\" class=\"dataframe\">\n",
              "  <thead>\n",
              "    <tr style=\"text-align: right;\">\n",
              "      <th></th>\n",
              "      <th>Foreign direct investment, net inflows (BoP, current US$)</th>\n",
              "      <th>Foreign direct investment, net inflows (% of GDP)</th>\n",
              "    </tr>\n",
              "  </thead>\n",
              "  <tbody>\n",
              "    <tr>\n",
              "      <th>count</th>\n",
              "      <td>5.000000e+01</td>\n",
              "      <td>50.000000</td>\n",
              "    </tr>\n",
              "    <tr>\n",
              "      <th>mean</th>\n",
              "      <td>1.085312e+10</td>\n",
              "      <td>0.742577</td>\n",
              "    </tr>\n",
              "    <tr>\n",
              "      <th>std</th>\n",
              "      <td>1.628167e+10</td>\n",
              "      <td>0.876339</td>\n",
              "    </tr>\n",
              "    <tr>\n",
              "      <th>min</th>\n",
              "      <td>-3.606000e+07</td>\n",
              "      <td>-0.029682</td>\n",
              "    </tr>\n",
              "    <tr>\n",
              "      <th>25%</th>\n",
              "      <td>7.244441e+07</td>\n",
              "      <td>0.044655</td>\n",
              "    </tr>\n",
              "    <tr>\n",
              "      <th>50%</th>\n",
              "      <td>1.558450e+09</td>\n",
              "      <td>0.385015</td>\n",
              "    </tr>\n",
              "    <tr>\n",
              "      <th>75%</th>\n",
              "      <td>2.300404e+10</td>\n",
              "      <td>1.458175</td>\n",
              "    </tr>\n",
              "    <tr>\n",
              "      <th>max</th>\n",
              "      <td>5.061065e+10</td>\n",
              "      <td>3.620522</td>\n",
              "    </tr>\n",
              "  </tbody>\n",
              "</table>\n",
              "</div>"
            ],
            "text/plain": [
              "       Foreign direct investment, net inflows (BoP, current US$)  Foreign direct investment, net inflows (% of GDP)\n",
              "count                                       5.000000e+01                                                  50.000000\n",
              "mean                                        1.085312e+10                                                   0.742577\n",
              "std                                         1.628167e+10                                                   0.876339\n",
              "min                                        -3.606000e+07                                                  -0.029682\n",
              "25%                                         7.244441e+07                                                   0.044655\n",
              "50%                                         1.558450e+09                                                   0.385015\n",
              "75%                                         2.300404e+10                                                   1.458175\n",
              "max                                         5.061065e+10                                                   3.620522"
            ]
          },
          "metadata": {
            "tags": []
          },
          "execution_count": 47
        }
      ]
    },
    {
      "cell_type": "code",
      "metadata": {
        "id": "5NXgwhWHGYo6"
      },
      "source": [
        "useful = {\n",
        "'BX.KLT.DINV.CD.WD': 'Foreign direct investment, net inflows (BoP, current US$)',\n",
        "'BX.KLT.DINV.WD.GD.ZS': 'Foreign direct investment, net inflows (% of GDP)',\n",
        "'BX.TRF.PWKR.DT.GD.ZS': 'Personal remittances, received (% of GDP)',\n",
        "'DT.TDS.DPPF.XP.ZS': 'Debt service (PPG and IMF only, % of exports of goods, services and primary income)',\n",
        "'GB.XPD.RSDV.GD.ZS': 'Research and development expenditure (% of GDP)',\n",
        "'GC.TAX.TOTL.CN': 'Tax revenue (current LCU)',\n",
        "'GC.TAX.TOTL.GD.ZS': 'Tax revenue (% of GDP)',\n",
        "'GF.XPD.BUDG.ZS': 'Primary government expenditures as a proportion of original approved budget (%)',\n",
        "'IC.BUS.NDNS.ZS': 'New business density (new registrations per 1,000 people ages 15-64)',\n",
        "'IQ.SCI.MTHD': 'Methodology assessment of statistical capacity (scale 0 - 100)',\n",
        "'IQ.SCI.OVRL': 'Statistical Capacity score (Overall average)',\n",
        "'IQ.SCI.PRDC': 'Periodicity and timeliness assessment of statistical capacity (scale 0 - 100)',\n",
        "'IQ.SCI.SRCE': 'Source data assessment of statistical capacity (scale 0 - 100)',\n",
        "'IT.NET.USER.ZS': 'Individuals using the Internet (% of population)',\n",
        "'NE.EXP.GNFS.ZS': 'Exports of goods and services (% of GDP)',\n",
        "'NV.AGR.EMPL.KD': 'Agriculture, forestry, and fishing, value added per worker (constant 2010 US$)',\n",
        "'NV.IND.EMPL.KD': 'Industry (including construction), value added per worker (constant 2010 US$)',\n",
        "'NV.IND.MANF.CD': 'Manufacturing, value added (current US$)',\n",
        "'NV.IND.MANF.ZS': 'Manufacturing, value added (% of GDP)',\n",
        "'NV.MNF.TECH.ZS.UN': 'Medium and high-tech Industry (including construction) (% manufacturing value added)',\n",
        "'NV.SRV.EMPL.KD': 'Services, value added per worker (constant 2010 US$)',\n",
        "'NY.ADJ.SVNX.GN.ZS': 'Adjusted net savings, excluding particulate emission damage (% of GNI)',\n",
        "'NY.GDP.COAL.RT.ZS': 'Coal rents (% of GDP)',\n",
        "'NY.GDP.FRST.RT.ZS': 'Forest rents (% of GDP)',\n",
        "'NY.GDP.MKTP.CD': 'GDP (current US$)',\n",
        "'NY.GDP.MKTP.CN': 'GDP (current LCU)',\n",
        "'NY.GDP.MKTP.KD': 'GDP (constant 2010 US$)',\n",
        "'NY.GDP.MKTP.KD.ZG': 'GDP growth (annual %)',\n",
        "'NY.GDP.MKTP.KN': 'GDP (constant LCU)',\n",
        "'NY.GDP.MKTP.PP.CD': 'GDP, PPP (current international $)',\n",
        "'NY.GDP.MKTP.PP.KD': 'GDP, PPP (constant 2017 international $)',\n",
        "'NY.GDP.NGAS.RT.ZS': 'Natural gas rents (% of GDP)',\n",
        "'NY.GDP.PCAP.CD': 'GDP per capita (current US$)',\n",
        "'NY.GDP.PCAP.CN': 'GDP per capita (current LCU)',\n",
        "'NY.GDP.PCAP.KD': 'GDP per capita (constant 2010 US$)',\n",
        "'NY.GDP.PCAP.KD.ZG': 'GDP per capita growth (annual %)',\n",
        "'NY.GDP.PCAP.KN': 'GDP per capita (constant LCU)',\n",
        "'NY.GDP.PCAP.PP.CD': 'GDP per capita, PPP (current international $)',\n",
        "'NY.GDP.PCAP.PP.KD': 'GDP per capita, PPP (constant 2017 international $)',\n",
        "'NY.GDP.PETR.RT.ZS': 'Oil rents (% of GDP)',\n",
        "'NY.GDP.TOTL.RT.ZS': 'Total natural resources rents (% of GDP)',\n",
        "'NY.GNP.MKTP.KD': 'GNI (constant 2010 US$)',\n",
        "'NY.GNP.MKTP.KN': 'GNI (constant LCU)',\n",
        "'NY.GNP.MKTP.PC.CD': 'GNI per capita (current US$)',\n",
        "'NY.GNP.MKTP.PP.CD': 'GNI, PPP (current international $)',\n",
        "'NY.GNP.MKTP.PP.KD': 'GNI, PPP (constant 2017 international $)',\n",
        "'NY.GNP.PCAP.CD': 'GNI per capita, Atlas method (current US$)',\n",
        "'NY.GNP.PCAP.CN': 'GNI per capita (current LCU)',\n",
        "'NY.GNP.PCAP.KD': 'GNI per capita (constant 2010 US$)',\n",
        "'NY.GNP.PCAP.KD.ZG': 'GNI per capita growth (annual %)',\n",
        "'NY.GNP.PCAP.KN': 'GNI per capita (constant LCU)',\n",
        "'NY.GNP.PCAP.PP.CD': 'GNI per capita, PPP (current international $)',\n",
        "'NY.GNP.PCAP.PP.KD': 'GNI per capita, PPP (constant 2017 international $)',\n",
        "'PA.NUS.PPP': 'PPP conversion factor, GDP (LCU per international $)',\n",
        "'PA.NUS.PRVT.PP': 'PPP conversion factor, private consumption (LCU per international $)',\n",
        "'SH.UHC.OOPC.10.TO': 'Number of people spending more than 10% of household consumption or income on out-of-pocket health care expenditure',\n",
        "'SH.UHC.OOPC.10.ZS': 'Proportion of population spending more than 10% of household consumption or income on out-of-pocket health care expenditure (%)',\n",
        "'SH.UHC.OOPC.25.TO': 'Number of people spending more than 25% of household consumption or income on out-of-pocket health care expenditure',\n",
        "'SH.UHC.OOPC.25.ZS': 'Proportion of population spending more than 25% of household consumption or income on out-of-pocket health care expenditure (%)',\n",
        "'SI.DST.50MD': 'Proportion of people living below 50 percent of median income (%)',\n",
        "'SI.POV.DDAY': 'Poverty headcount ratio at $1.90 a day (2011 PPP) (% of population)',\n",
        "'SI.POV.MDIM': 'Multidimensional poverty headcount ratio (% of total population)',\n",
        "'SI.POV.MDIM.17': 'Multidimensional poverty headcount ratio, children (% of population ages 0-17)',\n",
        "'SI.POV.MDIM.17.XQ': 'Multidimensional poverty index, children (population ages 0-17) (scale 0-1)',\n",
        "'SI.POV.MDIM.FE': 'Multidimensional poverty headcount ratio, female (% of female population)',\n",
        "'SI.POV.MDIM.HH': 'Multidimensional poverty headcount ratio, household (% of total households)',\n",
        "'SI.POV.MDIM.IT': 'Multidimensional poverty intensity (average share of deprivations experienced by the poor)',\n",
        "'SI.POV.MDIM.MA': 'Multidimensional poverty headcount ratio, male (% of male population)',\n",
        "'SI.POV.MDIM.XQ': 'Multidimensional poverty index (scale 0-1)',\n",
        "'SI.POV.NAHC': 'Poverty headcount ratio at national poverty lines (% of population)',\n",
        "'SI.RMT.COST.IB.ZS': 'Average transaction cost of sending remittances to a specific country (%)',\n",
        "'SI.RMT.COST.OB.ZS': 'Average transaction cost of sending remittances from a specific country (%)',\n",
        "'SI.SPR.PC40.ZG': 'Annualized average growth rate in per capita real survey mean consumption or income, bottom 40% of population (%)',\n",
        "'SI.SPR.PCAP.ZG': 'Annualized average growth rate in per capita real survey mean consumption or income, total population (%)',\n",
        "'SL.AGR.EMPL.FE.ZS': 'Employment in agriculture, female (% of female employment) (modeled ILO estimate)',\n",
        "'SL.AGR.EMPL.MA.ZS': 'Employment in agriculture, male (% of male employment) (modeled ILO estimate)',\n",
        "'SL.AGR.EMPL.ZS': 'Employment in agriculture (% of total employment) (modeled ILO estimate)',\n",
        "'SL.EMP.SMGT.FE.ZS': 'Female share of employment in senior and middle management (%) ',\n",
        "'SL.EMP.WORK.FE.ZS': 'Wage and salaried workers, female (% of female employment) (modeled ILO estimate)',\n",
        "'SL.EMP.WORK.MA.ZS': 'Wage and salaried workers, male (% of male employment) (modeled ILO estimate)',\n",
        "'SL.UEM.1524.MA.NE.ZS': 'Unemployment, youth male (% of male labor force ages 15-24) (national estimate)',\n",
        "'SL.UEM.1524.MA.ZS': 'Unemployment, youth male (% of male labor force ages 15-24) (modeled ILO estimate)',\n",
        "'SL.UEM.1524.NE.ZS': 'Unemployment, youth total (% of total labor force ages 15-24) (national estimate)',\n",
        "'SL.UEM.1524.ZS': 'Unemployment, youth total (% of total labor force ages 15-24) (modeled ILO estimate)',\n",
        "'SL.UEM.NEET.FE.ZS': 'Share of youth not in education, employment or training, female (% of female youth population)',\n",
        "'SL.UEM.NEET.MA.ZS': 'Share of youth not in education, employment or training, male (% of male youth population)',\n",
        "'SL.UEM.NEET.ZS': 'Share of youth not in education, employment or training, total (% of youth population)',\n",
        "'SL.UEM.TOTL.FE.NE.ZS': 'Unemployment, female (% of female labor force) (national estimate)',\n",
        "'SL.UEM.TOTL.FE.ZS': 'Unemployment, female (% of female labor force) (modeled ILO estimate)',\n",
        "'SL.UEM.TOTL.MA.NE.ZS': 'Unemployment, male (% of male labor force) (national estimate)',\n",
        "'SL.UEM.TOTL.MA.ZS': 'Unemployment, male (% of male labor force) (modeled ILO estimate)',\n",
        "'SL.UEM.TOTL.NE.ZS': 'Unemployment, total (% of total labor force) (national estimate)',\n",
        "'SL.UEM.TOTL.ZS': 'Unemployment, total (% of total labor force) (modeled ILO estimate)',\n",
        "'TM.TAX.MANF.SM.AR.ZS': 'Tariff rate, applied, simple mean, manufactured products (%)',\n",
        "'TM.TAX.MANF.WM.AR.ZS': 'Tariff rate, applied, weighted mean, manufactured products (%)',\n",
        "'TM.TAX.MRCH.SM.AR.ZS': 'Tariff rate, applied, simple mean, all products (%)',\n",
        "'TM.TAX.MRCH.WM.AR.ZS': 'Tariff rate, applied, weighted mean, all products (%)',\n",
        "'TM.TAX.TCOM.SM.AR.ZS': 'Tariff rate, applied, simple mean, primary products (%)',\n",
        "'TM.TAX.TCOM.WM.AR.ZS': 'Tariff rate, applied, weighted mean, primary products (%)',\n",
        "}\n"
      ],
      "execution_count": null,
      "outputs": []
    },
    {
      "cell_type": "code",
      "metadata": {
        "id": "Q2rUxbamIKB0"
      },
      "source": [
        "useful = {\n",
        "      'BX.KLT.DINV.CD.WD': 'Foreign direct investment, net inflows (BoP, current US$)',\n",
        "      'BX.KLT.DINV.WD.GD.ZS': 'Foreign direct investment, net inflows (% of GDP)',\n",
        "      'BX.TRF.PWKR.DT.GD.ZS': 'Personal remittances, received (% of GDP)',\n",
        "      'DT.TDS.DPPF.XP.ZS': 'Debt service (PPG and IMF only, % of exports of goods, services and primary income)',\n",
        "      'GB.XPD.RSDV.GD.ZS': 'Research and development expenditure (% of GDP)',\n",
        "      'GC.TAX.TOTL.CN': 'Tax revenue (current LCU)',\n",
        "      'GC.TAX.TOTL.GD.ZS': 'Tax revenue (% of GDP)',\n",
        "      'GF.XPD.BUDG.ZS': 'Primary government expenditures as a proportion of original approved budget (%)',\n",
        "      'IC.BUS.NDNS.ZS': 'New business density (new registrations per 1,000 people ages 15-64)',\n",
        "      'IQ.SCI.MTHD': 'Methodology assessment of statistical capacity (scale 0 - 100)',\n",
        "      'IQ.SCI.OVRL': 'Statistical Capacity score (Overall average)',\n",
        "      'IQ.SCI.PRDC': 'Periodicity and timeliness assessment of statistical capacity (scale 0 - 100)',\n",
        "      'IQ.SCI.SRCE': 'Source data assessment of statistical capacity (scale 0 - 100)',\n",
        "      'IT.NET.USER.ZS': 'Individuals using the Internet (% of population)',\n",
        "      'NE.EXP.GNFS.ZS': 'Exports of goods and services (% of GDP)',\n",
        "      'NV.AGR.EMPL.KD': 'Agriculture, forestry, and fishing, value added per worker (constant 2010 US$)',\n",
        "      'NV.IND.EMPL.KD': 'Industry (including construction), value added per worker (constant 2010 US$)',\n",
        "      'NV.IND.MANF.CD': 'Manufacturing, value added (current US$)',\n",
        "      'NV.IND.MANF.ZS': 'Manufacturing, value added (% of GDP)',\n",
        "      'NV.MNF.TECH.ZS.UN': 'Medium and high-tech Industry (including construction) (% manufacturing value added)',\n",
        "      'NV.SRV.EMPL.KD': 'Services, value added per worker (constant 2010 US$)',\n",
        "      'NY.ADJ.SVNX.GN.ZS': 'Adjusted net savings, excluding particulate emission damage (% of GNI)',\n",
        "      'NY.GDP.COAL.RT.ZS': 'Coal rents (% of GDP)',\n",
        "      'NY.GDP.FRST.RT.ZS': 'Forest rents (% of GDP)',\n",
        "      'NY.GDP.MKTP.CD': 'GDP (current US$)',\n",
        "      'NY.GDP.MKTP.CN': 'GDP (current LCU)',\n",
        "      'NY.GDP.MKTP.KD': 'GDP (constant 2010 US$)',\n",
        "      'NY.GDP.MKTP.KD.ZG': 'GDP growth (annual %)',\n",
        "      'NY.GDP.MKTP.KN': 'GDP (constant LCU)',\n",
        "      'NY.GDP.MKTP.PP.CD': 'GDP, PPP (current international $)',\n",
        "      'NY.GDP.MKTP.PP.KD': 'GDP, PPP (constant 2017 international $)',\n",
        "      'NY.GDP.NGAS.RT.ZS': 'Natural gas rents (% of GDP)',\n",
        "      'NY.GDP.PCAP.CD': 'GDP per capita (current US$)',\n",
        "      'NY.GDP.PCAP.CN': 'GDP per capita (current LCU)',\n",
        "      'NY.GDP.PCAP.KD': 'GDP per capita (constant 2010 US$)',\n",
        "      'NY.GDP.PCAP.KD.ZG': 'GDP per capita growth (annual %)',\n",
        "      'NY.GDP.PCAP.KN': 'GDP per capita (constant LCU)',\n",
        "      'NY.GDP.PCAP.PP.CD': 'GDP per capita, PPP (current international $)',\n",
        "      'NY.GDP.PCAP.PP.KD': 'GDP per capita, PPP (constant 2017 international $)',\n",
        "      'NY.GDP.PETR.RT.ZS': 'Oil rents (% of GDP)',\n",
        "      'NY.GDP.TOTL.RT.ZS': 'Total natural resources rents (% of GDP)',\n",
        "      'NY.GNP.MKTP.KD': 'GNI (constant 2010 US$)',\n",
        "      'NY.GNP.MKTP.KN': 'GNI (constant LCU)',\n",
        "      'NY.GNP.MKTP.PC.CD': 'GNI per capita (current US$)',\n",
        "      'NY.GNP.MKTP.PP.CD': 'GNI, PPP (current international $)',\n",
        "      'NY.GNP.MKTP.PP.KD': 'GNI, PPP (constant 2017 international $)',\n",
        "      'NY.GNP.PCAP.CD': 'GNI per capita, Atlas method (current US$)',\n",
        "      'NY.GNP.PCAP.CN': 'GNI per capita (current LCU)',\n",
        "      'NY.GNP.PCAP.KD': 'GNI per capita (constant 2010 US$)',\n",
        "      'NY.GNP.PCAP.KD.ZG': 'GNI per capita growth (annual %)',\n",
        "      'NY.GNP.PCAP.KN': 'GNI per capita (constant LCU)',\n",
        "      'NY.GNP.PCAP.PP.CD': 'GNI per capita, PPP (current international $)',\n",
        "      'NY.GNP.PCAP.PP.KD': 'GNI per capita, PPP (constant 2017 international $)',\n",
        "      'PA.NUS.PPP': 'PPP conversion factor, GDP (LCU per international $)',\n",
        "      'PA.NUS.PRVT.PP': 'PPP conversion factor, private consumption (LCU per international $)',\n",
        "      'SH.UHC.OOPC.10.TO': 'Number of people spending more than 10% of household consumption or income on out-of-pocket health care expenditure',\n",
        "      'SH.UHC.OOPC.10.ZS': 'Proportion of population spending more than 10% of household consumption or income on out-of-pocket health care expenditure (%)',\n",
        "      'SH.UHC.OOPC.25.TO': 'Number of people spending more than 25% of household consumption or income on out-of-pocket health care expenditure',\n",
        "      'SH.UHC.OOPC.25.ZS': 'Proportion of population spending more than 25% of household consumption or income on out-of-pocket health care expenditure (%)',\n",
        "      'SI.DST.50MD': 'Proportion of people living below 50 percent of median income (%)',\n",
        "      'SI.POV.DDAY': 'Poverty headcount ratio at $1.90 a day (2011 PPP) (% of population)',\n",
        "      'SI.POV.MDIM': 'Multidimensional poverty headcount ratio (% of total population)',\n",
        "      'SI.POV.MDIM.17': 'Multidimensional poverty headcount ratio, children (% of population ages 0-17)',\n",
        "      'SI.POV.MDIM.17.XQ': 'Multidimensional poverty index, children (population ages 0-17) (scale 0-1)',\n",
        "      'SI.POV.MDIM.FE': 'Multidimensional poverty headcount ratio, female (% of female population)',\n",
        "      'SI.POV.MDIM.HH': 'Multidimensional poverty headcount ratio, household (% of total households)',\n",
        "      'SI.POV.MDIM.IT': 'Multidimensional poverty intensity (average share of deprivations experienced by the poor)',\n",
        "      'SI.POV.MDIM.MA': 'Multidimensional poverty headcount ratio, male (% of male population)',\n",
        "      'SI.POV.MDIM.XQ': 'Multidimensional poverty index (scale 0-1)',\n",
        "      'SI.POV.NAHC': 'Poverty headcount ratio at national poverty lines (% of population)',\n",
        "      'SI.RMT.COST.IB.ZS': 'Average transaction cost of sending remittances to a specific country (%)',\n",
        "      'SI.RMT.COST.OB.ZS': 'Average transaction cost of sending remittances from a specific country (%)',\n",
        "      'SI.SPR.PC40.ZG': 'Annualized average growth rate in per capita real survey mean consumption or income, bottom 40% of population (%)',\n",
        "      'SI.SPR.PCAP.ZG': 'Annualized average growth rate in per capita real survey mean consumption or income, total population (%)',\n",
        "      'SL.AGR.EMPL.FE.ZS': 'Employment in agriculture, female (% of female employment) (modeled ILO estimate)',\n",
        "      'SL.AGR.EMPL.MA.ZS': 'Employment in agriculture, male (% of male employment) (modeled ILO estimate)',\n",
        "      'SL.AGR.EMPL.ZS': 'Employment in agriculture (% of total employment) (modeled ILO estimate)',\n",
        "      'SL.EMP.SMGT.FE.ZS': 'Female share of employment in senior and middle management (%) ',\n",
        "      'SL.EMP.WORK.FE.ZS': 'Wage and salaried workers, female (% of female employment) (modeled ILO estimate)',\n",
        "      'SL.EMP.WORK.MA.ZS': 'Wage and salaried workers, male (% of male employment) (modeled ILO estimate)',\n",
        "      'SL.UEM.1524.MA.NE.ZS': 'Unemployment, youth male (% of male labor force ages 15-24) (national estimate)',\n",
        "      'SL.UEM.1524.MA.ZS': 'Unemployment, youth male (% of male labor force ages 15-24) (modeled ILO estimate)',\n",
        "      'SL.UEM.1524.NE.ZS': 'Unemployment, youth total (% of total labor force ages 15-24) (national estimate)',\n",
        "      'SL.UEM.1524.ZS': 'Unemployment, youth total (% of total labor force ages 15-24) (modeled ILO estimate)',\n",
        "      'SL.UEM.NEET.FE.ZS': 'Share of youth not in education, employment or training, female (% of female youth population)',\n",
        "      'SL.UEM.NEET.MA.ZS': 'Share of youth not in education, employment or training, male (% of male youth population)',\n",
        "      'SL.UEM.NEET.ZS': 'Share of youth not in education, employment or training, total (% of youth population)',\n",
        "      'SL.UEM.TOTL.FE.NE.ZS': 'Unemployment, female (% of female labor force) (national estimate)',\n",
        "      'SL.UEM.TOTL.FE.ZS': 'Unemployment, female (% of female labor force) (modeled ILO estimate)',\n",
        "      'SL.UEM.TOTL.MA.NE.ZS': 'Unemployment, male (% of male labor force) (national estimate)',\n",
        "      'SL.UEM.TOTL.MA.ZS': 'Unemployment, male (% of male labor force) (modeled ILO estimate)',\n",
        "      'SL.UEM.TOTL.NE.ZS': 'Unemployment, total (% of total labor force) (national estimate)',\n",
        "      'SL.UEM.TOTL.ZS': 'Unemployment, total (% of total labor force) (modeled ILO estimate)',\n",
        "      'TM.TAX.MANF.SM.AR.ZS': 'Tariff rate, applied, simple mean, manufactured products (%)',\n",
        "      'TM.TAX.MANF.WM.AR.ZS': 'Tariff rate, applied, weighted mean, manufactured products (%)',\n",
        "      'TM.TAX.MRCH.SM.AR.ZS': 'Tariff rate, applied, simple mean, all products (%)',\n",
        "      'TM.TAX.MRCH.WM.AR.ZS': 'Tariff rate, applied, weighted mean, all products (%)',\n",
        "      'TM.TAX.TCOM.SM.AR.ZS': 'Tariff rate, applied, simple mean, primary products (%)',\n",
        "      'TM.TAX.TCOM.WM.AR.ZS': 'Tariff rate, applied, weighted mean, primary products (%)',\n",
        "      }"
      ],
      "execution_count": null,
      "outputs": []
    },
    {
      "cell_type": "code",
      "metadata": {
        "id": "KeeY6WNuIzAh"
      },
      "source": [
        ""
      ],
      "execution_count": null,
      "outputs": []
    }
  ]
}